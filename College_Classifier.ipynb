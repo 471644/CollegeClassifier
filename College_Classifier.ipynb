{
 "cells": [
  {
   "cell_type": "code",
   "execution_count": 226,
   "metadata": {
    "collapsed": true
   },
   "outputs": [],
   "source": [
    "import pandas as pd\n",
    "import datetime\n",
    "import numpy as np\n",
    "import matplotlib.pyplot as plt\n",
    "import matplotlib.lines as mlines\n",
    "from mpl_toolkits.mplot3d import Axes3D\n",
    "import seaborn as sns\n",
    "sns.set(style=\"whitegrid\", color_codes=True)\n",
    "import matplotlib.cm as cm\n",
    "%matplotlib inline\n",
    "import warnings\n",
    "warnings.filterwarnings(\"ignore\")\n",
    "pd.set_option('max_colwidth',999)\n",
    "pd.set_option('display.max_columns', 999)\n",
    "pd.set_option(\"display.max_rows\",999)"
   ]
  },
  {
   "cell_type": "code",
   "execution_count": 227,
   "metadata": {
    "collapsed": true
   },
   "outputs": [],
   "source": [
    "train = pd.read_excel(\"C:/Users/sutiwari/Desktop/Area_51/Work_Arena/Python_101/College_Training dataset.xlsx\")"
   ]
  },
  {
   "cell_type": "code",
   "execution_count": 228,
   "metadata": {
    "collapsed": false
   },
   "outputs": [
    {
     "data": {
      "text/html": [
       "<div>\n",
       "<table border=\"1\" class=\"dataframe\">\n",
       "  <thead>\n",
       "    <tr style=\"text-align: right;\">\n",
       "      <th></th>\n",
       "      <th>Student No</th>\n",
       "      <th>Gender</th>\n",
       "      <th>Percent_SSC</th>\n",
       "      <th>Board_SSC</th>\n",
       "      <th>Percent_HSC</th>\n",
       "      <th>Board_HSC</th>\n",
       "      <th>Stream_HSC</th>\n",
       "      <th>Percent_Degree</th>\n",
       "      <th>Course_Degree</th>\n",
       "      <th>Placement</th>\n",
       "    </tr>\n",
       "  </thead>\n",
       "  <tbody>\n",
       "    <tr>\n",
       "      <th>0</th>\n",
       "      <td>1</td>\n",
       "      <td>M</td>\n",
       "      <td>62.00</td>\n",
       "      <td>Others</td>\n",
       "      <td>88.00</td>\n",
       "      <td>Others</td>\n",
       "      <td>Commerce</td>\n",
       "      <td>52.00</td>\n",
       "      <td>Science</td>\n",
       "      <td>Placed</td>\n",
       "    </tr>\n",
       "    <tr>\n",
       "      <th>1</th>\n",
       "      <td>2</td>\n",
       "      <td>M</td>\n",
       "      <td>76.33</td>\n",
       "      <td>ICSE</td>\n",
       "      <td>75.33</td>\n",
       "      <td>Others</td>\n",
       "      <td>Science</td>\n",
       "      <td>75.48</td>\n",
       "      <td>Computer Applications</td>\n",
       "      <td>Placed</td>\n",
       "    </tr>\n",
       "    <tr>\n",
       "      <th>2</th>\n",
       "      <td>3</td>\n",
       "      <td>M</td>\n",
       "      <td>72.00</td>\n",
       "      <td>Others</td>\n",
       "      <td>78.00</td>\n",
       "      <td>Others</td>\n",
       "      <td>Commerce</td>\n",
       "      <td>66.63</td>\n",
       "      <td>Engineering</td>\n",
       "      <td>Placed</td>\n",
       "    </tr>\n",
       "    <tr>\n",
       "      <th>3</th>\n",
       "      <td>4</td>\n",
       "      <td>M</td>\n",
       "      <td>60.00</td>\n",
       "      <td>CBSE</td>\n",
       "      <td>63.00</td>\n",
       "      <td>CBSE</td>\n",
       "      <td>Arts</td>\n",
       "      <td>58.00</td>\n",
       "      <td>Management</td>\n",
       "      <td>Placed</td>\n",
       "    </tr>\n",
       "    <tr>\n",
       "      <th>4</th>\n",
       "      <td>5</td>\n",
       "      <td>M</td>\n",
       "      <td>61.00</td>\n",
       "      <td>CBSE</td>\n",
       "      <td>55.00</td>\n",
       "      <td>ISC</td>\n",
       "      <td>Science</td>\n",
       "      <td>54.00</td>\n",
       "      <td>Engineering</td>\n",
       "      <td>Placed</td>\n",
       "    </tr>\n",
       "  </tbody>\n",
       "</table>\n",
       "</div>"
      ],
      "text/plain": [
       "   Student No Gender  Percent_SSC Board_SSC  Percent_HSC Board_HSC Stream_HSC  \\\n",
       "0           1      M        62.00    Others        88.00    Others   Commerce   \n",
       "1           2      M        76.33      ICSE        75.33    Others    Science   \n",
       "2           3      M        72.00    Others        78.00    Others   Commerce   \n",
       "3           4      M        60.00      CBSE        63.00      CBSE       Arts   \n",
       "4           5      M        61.00      CBSE        55.00       ISC    Science   \n",
       "\n",
       "   Percent_Degree          Course_Degree Placement  \n",
       "0           52.00                Science    Placed  \n",
       "1           75.48  Computer Applications    Placed  \n",
       "2           66.63            Engineering    Placed  \n",
       "3           58.00             Management    Placed  \n",
       "4           54.00            Engineering    Placed  "
      ]
     },
     "execution_count": 228,
     "metadata": {},
     "output_type": "execute_result"
    }
   ],
   "source": [
    "train.head()"
   ]
  },
  {
   "cell_type": "code",
   "execution_count": 229,
   "metadata": {
    "collapsed": false
   },
   "outputs": [
    {
     "data": {
      "text/html": [
       "<div>\n",
       "<table border=\"1\" class=\"dataframe\">\n",
       "  <thead>\n",
       "    <tr style=\"text-align: right;\">\n",
       "      <th></th>\n",
       "      <th>Student No</th>\n",
       "      <th>Gender</th>\n",
       "      <th>Percent_SSC</th>\n",
       "      <th>Board_SSC</th>\n",
       "      <th>Percent_HSC</th>\n",
       "      <th>Board_HSC</th>\n",
       "      <th>Stream_HSC</th>\n",
       "      <th>Percent_Degree</th>\n",
       "      <th>Course_Degree</th>\n",
       "      <th>Placement</th>\n",
       "    </tr>\n",
       "  </thead>\n",
       "  <tbody>\n",
       "    <tr>\n",
       "      <th>count</th>\n",
       "      <td>300.000000</td>\n",
       "      <td>289</td>\n",
       "      <td>300.000000</td>\n",
       "      <td>300</td>\n",
       "      <td>290.000000</td>\n",
       "      <td>300</td>\n",
       "      <td>296</td>\n",
       "      <td>300.000000</td>\n",
       "      <td>297</td>\n",
       "      <td>300</td>\n",
       "    </tr>\n",
       "    <tr>\n",
       "      <th>unique</th>\n",
       "      <td>NaN</td>\n",
       "      <td>2</td>\n",
       "      <td>NaN</td>\n",
       "      <td>3</td>\n",
       "      <td>NaN</td>\n",
       "      <td>3</td>\n",
       "      <td>3</td>\n",
       "      <td>NaN</td>\n",
       "      <td>7</td>\n",
       "      <td>2</td>\n",
       "    </tr>\n",
       "    <tr>\n",
       "      <th>top</th>\n",
       "      <td>NaN</td>\n",
       "      <td>M</td>\n",
       "      <td>NaN</td>\n",
       "      <td>Others</td>\n",
       "      <td>NaN</td>\n",
       "      <td>Others</td>\n",
       "      <td>Commerce</td>\n",
       "      <td>NaN</td>\n",
       "      <td>Management</td>\n",
       "      <td>Placed</td>\n",
       "    </tr>\n",
       "    <tr>\n",
       "      <th>freq</th>\n",
       "      <td>NaN</td>\n",
       "      <td>198</td>\n",
       "      <td>NaN</td>\n",
       "      <td>151</td>\n",
       "      <td>NaN</td>\n",
       "      <td>188</td>\n",
       "      <td>165</td>\n",
       "      <td>NaN</td>\n",
       "      <td>126</td>\n",
       "      <td>250</td>\n",
       "    </tr>\n",
       "    <tr>\n",
       "      <th>mean</th>\n",
       "      <td>150.500000</td>\n",
       "      <td>NaN</td>\n",
       "      <td>64.724667</td>\n",
       "      <td>NaN</td>\n",
       "      <td>63.953552</td>\n",
       "      <td>NaN</td>\n",
       "      <td>NaN</td>\n",
       "      <td>62.861733</td>\n",
       "      <td>NaN</td>\n",
       "      <td>NaN</td>\n",
       "    </tr>\n",
       "    <tr>\n",
       "      <th>std</th>\n",
       "      <td>86.746758</td>\n",
       "      <td>NaN</td>\n",
       "      <td>10.947700</td>\n",
       "      <td>NaN</td>\n",
       "      <td>11.399231</td>\n",
       "      <td>NaN</td>\n",
       "      <td>NaN</td>\n",
       "      <td>8.809468</td>\n",
       "      <td>NaN</td>\n",
       "      <td>NaN</td>\n",
       "    </tr>\n",
       "    <tr>\n",
       "      <th>min</th>\n",
       "      <td>1.000000</td>\n",
       "      <td>NaN</td>\n",
       "      <td>37.330000</td>\n",
       "      <td>NaN</td>\n",
       "      <td>40.000000</td>\n",
       "      <td>NaN</td>\n",
       "      <td>NaN</td>\n",
       "      <td>35.500000</td>\n",
       "      <td>NaN</td>\n",
       "      <td>NaN</td>\n",
       "    </tr>\n",
       "    <tr>\n",
       "      <th>25%</th>\n",
       "      <td>75.750000</td>\n",
       "      <td>NaN</td>\n",
       "      <td>56.000000</td>\n",
       "      <td>NaN</td>\n",
       "      <td>54.000000</td>\n",
       "      <td>NaN</td>\n",
       "      <td>NaN</td>\n",
       "      <td>57.612500</td>\n",
       "      <td>NaN</td>\n",
       "      <td>NaN</td>\n",
       "    </tr>\n",
       "    <tr>\n",
       "      <th>50%</th>\n",
       "      <td>150.500000</td>\n",
       "      <td>NaN</td>\n",
       "      <td>64.250000</td>\n",
       "      <td>NaN</td>\n",
       "      <td>63.000000</td>\n",
       "      <td>NaN</td>\n",
       "      <td>NaN</td>\n",
       "      <td>62.945000</td>\n",
       "      <td>NaN</td>\n",
       "      <td>NaN</td>\n",
       "    </tr>\n",
       "    <tr>\n",
       "      <th>75%</th>\n",
       "      <td>225.250000</td>\n",
       "      <td>NaN</td>\n",
       "      <td>74.000000</td>\n",
       "      <td>NaN</td>\n",
       "      <td>73.000000</td>\n",
       "      <td>NaN</td>\n",
       "      <td>NaN</td>\n",
       "      <td>68.422500</td>\n",
       "      <td>NaN</td>\n",
       "      <td>NaN</td>\n",
       "    </tr>\n",
       "    <tr>\n",
       "      <th>max</th>\n",
       "      <td>300.000000</td>\n",
       "      <td>NaN</td>\n",
       "      <td>87.200000</td>\n",
       "      <td>NaN</td>\n",
       "      <td>94.700000</td>\n",
       "      <td>NaN</td>\n",
       "      <td>NaN</td>\n",
       "      <td>86.700000</td>\n",
       "      <td>NaN</td>\n",
       "      <td>NaN</td>\n",
       "    </tr>\n",
       "  </tbody>\n",
       "</table>\n",
       "</div>"
      ],
      "text/plain": [
       "        Student No Gender  Percent_SSC Board_SSC  Percent_HSC Board_HSC  \\\n",
       "count   300.000000    289   300.000000       300   290.000000       300   \n",
       "unique         NaN      2          NaN         3          NaN         3   \n",
       "top            NaN      M          NaN    Others          NaN    Others   \n",
       "freq           NaN    198          NaN       151          NaN       188   \n",
       "mean    150.500000    NaN    64.724667       NaN    63.953552       NaN   \n",
       "std      86.746758    NaN    10.947700       NaN    11.399231       NaN   \n",
       "min       1.000000    NaN    37.330000       NaN    40.000000       NaN   \n",
       "25%      75.750000    NaN    56.000000       NaN    54.000000       NaN   \n",
       "50%     150.500000    NaN    64.250000       NaN    63.000000       NaN   \n",
       "75%     225.250000    NaN    74.000000       NaN    73.000000       NaN   \n",
       "max     300.000000    NaN    87.200000       NaN    94.700000       NaN   \n",
       "\n",
       "       Stream_HSC  Percent_Degree Course_Degree Placement  \n",
       "count         296      300.000000           297       300  \n",
       "unique          3             NaN             7         2  \n",
       "top      Commerce             NaN    Management    Placed  \n",
       "freq          165             NaN           126       250  \n",
       "mean          NaN       62.861733           NaN       NaN  \n",
       "std           NaN        8.809468           NaN       NaN  \n",
       "min           NaN       35.500000           NaN       NaN  \n",
       "25%           NaN       57.612500           NaN       NaN  \n",
       "50%           NaN       62.945000           NaN       NaN  \n",
       "75%           NaN       68.422500           NaN       NaN  \n",
       "max           NaN       86.700000           NaN       NaN  "
      ]
     },
     "execution_count": 229,
     "metadata": {},
     "output_type": "execute_result"
    }
   ],
   "source": [
    "train.describe(include='all')"
   ]
  },
  {
   "cell_type": "code",
   "execution_count": 230,
   "metadata": {
    "collapsed": false
   },
   "outputs": [
    {
     "data": {
      "text/html": [
       "<div>\n",
       "<table border=\"1\" class=\"dataframe\">\n",
       "  <thead>\n",
       "    <tr style=\"text-align: right;\">\n",
       "      <th>Placement</th>\n",
       "      <th>Not Placed</th>\n",
       "      <th>Placed</th>\n",
       "    </tr>\n",
       "    <tr>\n",
       "      <th>Gender</th>\n",
       "      <th></th>\n",
       "      <th></th>\n",
       "    </tr>\n",
       "  </thead>\n",
       "  <tbody>\n",
       "    <tr>\n",
       "      <th>F</th>\n",
       "      <td>19</td>\n",
       "      <td>72</td>\n",
       "    </tr>\n",
       "    <tr>\n",
       "      <th>M</th>\n",
       "      <td>31</td>\n",
       "      <td>167</td>\n",
       "    </tr>\n",
       "  </tbody>\n",
       "</table>\n",
       "</div>"
      ],
      "text/plain": [
       "Placement  Not Placed  Placed\n",
       "Gender                       \n",
       "F                  19      72\n",
       "M                  31     167"
      ]
     },
     "execution_count": 230,
     "metadata": {},
     "output_type": "execute_result"
    }
   ],
   "source": [
    "pd.crosstab(train.Gender,train.Placement)"
   ]
  },
  {
   "cell_type": "code",
   "execution_count": 231,
   "metadata": {
    "collapsed": true
   },
   "outputs": [],
   "source": [
    "train.Placement = train.Placement.map({\"Placed\":1,\"Not Placed\":0})"
   ]
  },
  {
   "cell_type": "code",
   "execution_count": 232,
   "metadata": {
    "collapsed": false
   },
   "outputs": [
    {
     "data": {
      "text/plain": [
       "1    250\n",
       "0     50\n",
       "Name: Placement, dtype: int64"
      ]
     },
     "execution_count": 232,
     "metadata": {},
     "output_type": "execute_result"
    }
   ],
   "source": [
    "train.Placement.value_counts()"
   ]
  },
  {
   "cell_type": "code",
   "execution_count": 233,
   "metadata": {
    "collapsed": false
   },
   "outputs": [
    {
     "data": {
      "text/plain": [
       "M    198\n",
       "F     91\n",
       "Name: Gender, dtype: int64"
      ]
     },
     "execution_count": 233,
     "metadata": {},
     "output_type": "execute_result"
    }
   ],
   "source": [
    "train.Gender.value_counts()"
   ]
  },
  {
   "cell_type": "code",
   "execution_count": 234,
   "metadata": {
    "collapsed": true
   },
   "outputs": [],
   "source": [
    "#### outlier detection ####\n",
    "from collections import Counter\n",
    "def detect_outliers(df,n,features):\n",
    "    \"\"\"\n",
    "    Takes a dataframe df of features and returns a list of the indices\n",
    "    corresponding to the observations containing more than n outliers according\n",
    "    to the Tukey method.\n",
    "    \"\"\"\n",
    "    outlier_indices = []\n",
    "    \n",
    "    # iterate over features(columns)\n",
    "    for col in features:\n",
    "        # 1st quartile (25%)\n",
    "        Q1 = np.percentile(df[col], 25)\n",
    "        # 3rd quartile (75%)\n",
    "        Q3 = np.percentile(df[col],75)\n",
    "        # Interquartile range (IQR)\n",
    "        IQR = Q3 - Q1\n",
    "        \n",
    "        # outlier step\n",
    "        outlier_step = 1.5 * IQR\n",
    "        \n",
    "        # Determine a list of indices of outliers for feature col\n",
    "        outlier_list_col = df[(df[col] < Q1 - outlier_step) | (df[col] > Q3 + outlier_step )].index\n",
    "        \n",
    "        # append the found outlier indices for col to the list of outlier indices \n",
    "        outlier_indices.extend(outlier_list_col)\n",
    "        \n",
    "    # select observations containing more than 2 outliers\n",
    "    outlier_indices = Counter(outlier_indices)        \n",
    "    multiple_outliers = list( k for k, v in outlier_indices.items() if v > n )\n",
    "    \n",
    "    return multiple_outliers"
   ]
  },
  {
   "cell_type": "code",
   "execution_count": 235,
   "metadata": {
    "collapsed": true
   },
   "outputs": [],
   "source": [
    "outlier_Col = detect_outliers(train,2,[\"Percent_SSC\",\"Percent_HSC\",\"Percent_Degree\"])"
   ]
  },
  {
   "cell_type": "code",
   "execution_count": 236,
   "metadata": {
    "collapsed": false
   },
   "outputs": [
    {
     "data": {
      "text/plain": [
       "list"
      ]
     },
     "execution_count": 236,
     "metadata": {},
     "output_type": "execute_result"
    }
   ],
   "source": [
    "type(outlier_Col)"
   ]
  },
  {
   "cell_type": "code",
   "execution_count": 237,
   "metadata": {
    "collapsed": false
   },
   "outputs": [
    {
     "data": {
      "text/plain": [
       "[]"
      ]
     },
     "execution_count": 237,
     "metadata": {},
     "output_type": "execute_result"
    }
   ],
   "source": [
    "outlier_Col"
   ]
  },
  {
   "cell_type": "code",
   "execution_count": 238,
   "metadata": {
    "collapsed": false
   },
   "outputs": [
    {
     "data": {
      "text/plain": [
       "Student No         0\n",
       "Gender            11\n",
       "Percent_SSC        0\n",
       "Board_SSC          0\n",
       "Percent_HSC       10\n",
       "Board_HSC          0\n",
       "Stream_HSC         4\n",
       "Percent_Degree     0\n",
       "Course_Degree      3\n",
       "Placement          0\n",
       "dtype: int64"
      ]
     },
     "execution_count": 238,
     "metadata": {},
     "output_type": "execute_result"
    }
   ],
   "source": [
    "## Null Info \n",
    "train.isnull().sum()"
   ]
  },
  {
   "cell_type": "raw",
   "metadata": {},
   "source": [
    "train = train.fillna(np.nan)"
   ]
  },
  {
   "cell_type": "code",
   "execution_count": 239,
   "metadata": {
    "collapsed": false
   },
   "outputs": [
    {
     "name": "stdout",
     "output_type": "stream",
     "text": [
      "<class 'pandas.core.frame.DataFrame'>\n",
      "RangeIndex: 300 entries, 0 to 299\n",
      "Data columns (total 10 columns):\n",
      "Student No        300 non-null int64\n",
      "Gender            289 non-null object\n",
      "Percent_SSC       300 non-null float64\n",
      "Board_SSC         300 non-null object\n",
      "Percent_HSC       290 non-null float64\n",
      "Board_HSC         300 non-null object\n",
      "Stream_HSC        296 non-null object\n",
      "Percent_Degree    300 non-null float64\n",
      "Course_Degree     297 non-null object\n",
      "Placement         300 non-null int64\n",
      "dtypes: float64(3), int64(2), object(5)\n",
      "memory usage: 23.5+ KB\n"
     ]
    }
   ],
   "source": [
    "train.info()"
   ]
  },
  {
   "cell_type": "code",
   "execution_count": 240,
   "metadata": {
    "collapsed": false
   },
   "outputs": [
    {
     "data": {
      "text/html": [
       "<div>\n",
       "<table border=\"1\" class=\"dataframe\">\n",
       "  <thead>\n",
       "    <tr style=\"text-align: right;\">\n",
       "      <th></th>\n",
       "      <th>Student No</th>\n",
       "      <th>Percent_SSC</th>\n",
       "      <th>Percent_HSC</th>\n",
       "      <th>Percent_Degree</th>\n",
       "      <th>Placement</th>\n",
       "    </tr>\n",
       "  </thead>\n",
       "  <tbody>\n",
       "    <tr>\n",
       "      <th>count</th>\n",
       "      <td>300.000000</td>\n",
       "      <td>300.000000</td>\n",
       "      <td>290.000000</td>\n",
       "      <td>300.000000</td>\n",
       "      <td>300.000000</td>\n",
       "    </tr>\n",
       "    <tr>\n",
       "      <th>mean</th>\n",
       "      <td>150.500000</td>\n",
       "      <td>64.724667</td>\n",
       "      <td>63.953552</td>\n",
       "      <td>62.861733</td>\n",
       "      <td>0.833333</td>\n",
       "    </tr>\n",
       "    <tr>\n",
       "      <th>std</th>\n",
       "      <td>86.746758</td>\n",
       "      <td>10.947700</td>\n",
       "      <td>11.399231</td>\n",
       "      <td>8.809468</td>\n",
       "      <td>0.373301</td>\n",
       "    </tr>\n",
       "    <tr>\n",
       "      <th>min</th>\n",
       "      <td>1.000000</td>\n",
       "      <td>37.330000</td>\n",
       "      <td>40.000000</td>\n",
       "      <td>35.500000</td>\n",
       "      <td>0.000000</td>\n",
       "    </tr>\n",
       "    <tr>\n",
       "      <th>25%</th>\n",
       "      <td>75.750000</td>\n",
       "      <td>56.000000</td>\n",
       "      <td>54.000000</td>\n",
       "      <td>57.612500</td>\n",
       "      <td>1.000000</td>\n",
       "    </tr>\n",
       "    <tr>\n",
       "      <th>50%</th>\n",
       "      <td>150.500000</td>\n",
       "      <td>64.250000</td>\n",
       "      <td>63.000000</td>\n",
       "      <td>62.945000</td>\n",
       "      <td>1.000000</td>\n",
       "    </tr>\n",
       "    <tr>\n",
       "      <th>75%</th>\n",
       "      <td>225.250000</td>\n",
       "      <td>74.000000</td>\n",
       "      <td>73.000000</td>\n",
       "      <td>68.422500</td>\n",
       "      <td>1.000000</td>\n",
       "    </tr>\n",
       "    <tr>\n",
       "      <th>max</th>\n",
       "      <td>300.000000</td>\n",
       "      <td>87.200000</td>\n",
       "      <td>94.700000</td>\n",
       "      <td>86.700000</td>\n",
       "      <td>1.000000</td>\n",
       "    </tr>\n",
       "  </tbody>\n",
       "</table>\n",
       "</div>"
      ],
      "text/plain": [
       "       Student No  Percent_SSC  Percent_HSC  Percent_Degree   Placement\n",
       "count  300.000000   300.000000   290.000000      300.000000  300.000000\n",
       "mean   150.500000    64.724667    63.953552       62.861733    0.833333\n",
       "std     86.746758    10.947700    11.399231        8.809468    0.373301\n",
       "min      1.000000    37.330000    40.000000       35.500000    0.000000\n",
       "25%     75.750000    56.000000    54.000000       57.612500    1.000000\n",
       "50%    150.500000    64.250000    63.000000       62.945000    1.000000\n",
       "75%    225.250000    74.000000    73.000000       68.422500    1.000000\n",
       "max    300.000000    87.200000    94.700000       86.700000    1.000000"
      ]
     },
     "execution_count": 240,
     "metadata": {},
     "output_type": "execute_result"
    }
   ],
   "source": [
    "train.describe()"
   ]
  },
  {
   "cell_type": "code",
   "execution_count": 241,
   "metadata": {
    "collapsed": false
   },
   "outputs": [
    {
     "data": {
      "image/png": "[encoded data removed]",
      "text/plain": [
       "<matplotlib.figure.Figure at 0xc1fd940>"
      ]
     },
     "metadata": {},
     "output_type": "display_data"
    }
   ],
   "source": [
    "g = sns.heatmap(train[[\"Placement\",\"Percent_SSC\",\"Percent_HSC\",\"Percent_Degree\"]].corr(),annot=True,cmap=\"coolwarm\")"
   ]
  },
  {
   "cell_type": "code",
   "execution_count": 242,
   "metadata": {
    "collapsed": false
   },
   "outputs": [
    {
     "data": {
      "text/plain": [
       "'It seems interaction between variables are not that high. And no feature has very significant correlation with the target \\nvariable.We may need to dig deep to come up with features'"
      ]
     },
     "execution_count": 242,
     "metadata": {},
     "output_type": "execute_result"
    }
   ],
   "source": [
    "\"\"\"It seems interaction between variables are not that high. And no feature has very significant correlation with the target \n",
    "variable.We may need to dig deep to come up with features\"\"\""
   ]
  },
  {
   "cell_type": "code",
   "execution_count": 243,
   "metadata": {
    "collapsed": false
   },
   "outputs": [
    {
     "data": {
      "image/png": "[encoded data removed]",
      "text/plain": [
       "<matplotlib.figure.Figure at 0xc37b710>"
      ]
     },
     "metadata": {},
     "output_type": "display_data"
    }
   ],
   "source": [
    "## explore Percent_SSC\n",
    "g = sns.factorplot(x='Gender',y='Placement',data=train,kind='bar',size=6,palette='muted')\n",
    "g.despine(left=True)\n",
    "g = g.set_ylabels(\"placement probablity\")"
   ]
  },
  {
   "cell_type": "code",
   "execution_count": 244,
   "metadata": {
    "collapsed": false
   },
   "outputs": [
    {
     "data": {
      "text/html": [
       "<div>\n",
       "<table border=\"1\" class=\"dataframe\">\n",
       "  <thead>\n",
       "    <tr style=\"text-align: right;\">\n",
       "      <th>Board_SSC</th>\n",
       "      <th>CBSE</th>\n",
       "      <th>ICSE</th>\n",
       "      <th>Others</th>\n",
       "    </tr>\n",
       "    <tr>\n",
       "      <th>Gender</th>\n",
       "      <th></th>\n",
       "      <th></th>\n",
       "      <th></th>\n",
       "    </tr>\n",
       "  </thead>\n",
       "  <tbody>\n",
       "    <tr>\n",
       "      <th>F</th>\n",
       "      <td>30</td>\n",
       "      <td>17</td>\n",
       "      <td>44</td>\n",
       "    </tr>\n",
       "    <tr>\n",
       "      <th>M</th>\n",
       "      <td>61</td>\n",
       "      <td>34</td>\n",
       "      <td>103</td>\n",
       "    </tr>\n",
       "  </tbody>\n",
       "</table>\n",
       "</div>"
      ],
      "text/plain": [
       "Board_SSC  CBSE  ICSE  Others\n",
       "Gender                       \n",
       "F            30    17      44\n",
       "M            61    34     103"
      ]
     },
     "execution_count": 244,
     "metadata": {},
     "output_type": "execute_result"
    }
   ],
   "source": [
    "pd.crosstab(train.Gender,train.Board_SSC)"
   ]
  },
  {
   "cell_type": "code",
   "execution_count": 245,
   "metadata": {
    "collapsed": false
   },
   "outputs": [
    {
     "data": {
      "text/html": [
       "<div>\n",
       "<table border=\"1\" class=\"dataframe\">\n",
       "  <thead>\n",
       "    <tr style=\"text-align: right;\">\n",
       "      <th>Board_HSC</th>\n",
       "      <th>CBSE</th>\n",
       "      <th>ISC</th>\n",
       "      <th>Others</th>\n",
       "    </tr>\n",
       "    <tr>\n",
       "      <th>Gender</th>\n",
       "      <th></th>\n",
       "      <th></th>\n",
       "      <th></th>\n",
       "    </tr>\n",
       "  </thead>\n",
       "  <tbody>\n",
       "    <tr>\n",
       "      <th>F</th>\n",
       "      <td>27</td>\n",
       "      <td>9</td>\n",
       "      <td>55</td>\n",
       "    </tr>\n",
       "    <tr>\n",
       "      <th>M</th>\n",
       "      <td>48</td>\n",
       "      <td>22</td>\n",
       "      <td>128</td>\n",
       "    </tr>\n",
       "  </tbody>\n",
       "</table>\n",
       "</div>"
      ],
      "text/plain": [
       "Board_HSC  CBSE  ISC  Others\n",
       "Gender                      \n",
       "F            27    9      55\n",
       "M            48   22     128"
      ]
     },
     "execution_count": 245,
     "metadata": {},
     "output_type": "execute_result"
    }
   ],
   "source": [
    "pd.crosstab(train.Gender,train.Board_HSC)"
   ]
  },
  {
   "cell_type": "code",
   "execution_count": 246,
   "metadata": {
    "collapsed": false
   },
   "outputs": [
    {
     "data": {
      "text/html": [
       "<div>\n",
       "<table border=\"1\" class=\"dataframe\">\n",
       "  <thead>\n",
       "    <tr style=\"text-align: right;\">\n",
       "      <th></th>\n",
       "      <th>Student No</th>\n",
       "      <th>Gender</th>\n",
       "      <th>Percent_SSC</th>\n",
       "      <th>Board_SSC</th>\n",
       "      <th>Percent_HSC</th>\n",
       "      <th>Board_HSC</th>\n",
       "      <th>Stream_HSC</th>\n",
       "      <th>Percent_Degree</th>\n",
       "      <th>Course_Degree</th>\n",
       "      <th>Placement</th>\n",
       "    </tr>\n",
       "  </thead>\n",
       "  <tbody>\n",
       "    <tr>\n",
       "      <th>5</th>\n",
       "      <td>6</td>\n",
       "      <td>NaN</td>\n",
       "      <td>55.00</td>\n",
       "      <td>ICSE</td>\n",
       "      <td>64.00</td>\n",
       "      <td>CBSE</td>\n",
       "      <td>Commerce</td>\n",
       "      <td>50.00</td>\n",
       "      <td>Commerce</td>\n",
       "      <td>1</td>\n",
       "    </tr>\n",
       "    <tr>\n",
       "      <th>12</th>\n",
       "      <td>13</td>\n",
       "      <td>M</td>\n",
       "      <td>60.00</td>\n",
       "      <td>Others</td>\n",
       "      <td>52.80</td>\n",
       "      <td>Others</td>\n",
       "      <td>NaN</td>\n",
       "      <td>73.25</td>\n",
       "      <td>Computer Applications</td>\n",
       "      <td>1</td>\n",
       "    </tr>\n",
       "    <tr>\n",
       "      <th>33</th>\n",
       "      <td>34</td>\n",
       "      <td>F</td>\n",
       "      <td>75.00</td>\n",
       "      <td>Others</td>\n",
       "      <td>77.00</td>\n",
       "      <td>Others</td>\n",
       "      <td>NaN</td>\n",
       "      <td>73.00</td>\n",
       "      <td>Management</td>\n",
       "      <td>1</td>\n",
       "    </tr>\n",
       "    <tr>\n",
       "      <th>34</th>\n",
       "      <td>35</td>\n",
       "      <td>NaN</td>\n",
       "      <td>60.00</td>\n",
       "      <td>CBSE</td>\n",
       "      <td>72.00</td>\n",
       "      <td>CBSE</td>\n",
       "      <td>Commerce</td>\n",
       "      <td>65.00</td>\n",
       "      <td>Management</td>\n",
       "      <td>1</td>\n",
       "    </tr>\n",
       "    <tr>\n",
       "      <th>44</th>\n",
       "      <td>45</td>\n",
       "      <td>NaN</td>\n",
       "      <td>54.00</td>\n",
       "      <td>Others</td>\n",
       "      <td>60.00</td>\n",
       "      <td>Others</td>\n",
       "      <td>Commerce</td>\n",
       "      <td>60.00</td>\n",
       "      <td>NaN</td>\n",
       "      <td>1</td>\n",
       "    </tr>\n",
       "    <tr>\n",
       "      <th>49</th>\n",
       "      <td>50</td>\n",
       "      <td>NaN</td>\n",
       "      <td>74.50</td>\n",
       "      <td>CBSE</td>\n",
       "      <td>58.00</td>\n",
       "      <td>CBSE</td>\n",
       "      <td>Science</td>\n",
       "      <td>58.00</td>\n",
       "      <td>Management</td>\n",
       "      <td>1</td>\n",
       "    </tr>\n",
       "    <tr>\n",
       "      <th>60</th>\n",
       "      <td>61</td>\n",
       "      <td>F</td>\n",
       "      <td>75.00</td>\n",
       "      <td>CBSE</td>\n",
       "      <td>58.00</td>\n",
       "      <td>CBSE</td>\n",
       "      <td>NaN</td>\n",
       "      <td>69.00</td>\n",
       "      <td>Science</td>\n",
       "      <td>1</td>\n",
       "    </tr>\n",
       "    <tr>\n",
       "      <th>62</th>\n",
       "      <td>63</td>\n",
       "      <td>NaN</td>\n",
       "      <td>52.00</td>\n",
       "      <td>CBSE</td>\n",
       "      <td>57.00</td>\n",
       "      <td>CBSE</td>\n",
       "      <td>Commerce</td>\n",
       "      <td>47.00</td>\n",
       "      <td>Management</td>\n",
       "      <td>1</td>\n",
       "    </tr>\n",
       "    <tr>\n",
       "      <th>70</th>\n",
       "      <td>71</td>\n",
       "      <td>NaN</td>\n",
       "      <td>70.00</td>\n",
       "      <td>Others</td>\n",
       "      <td>50.00</td>\n",
       "      <td>Others</td>\n",
       "      <td>Science</td>\n",
       "      <td>60.00</td>\n",
       "      <td>Management</td>\n",
       "      <td>1</td>\n",
       "    </tr>\n",
       "    <tr>\n",
       "      <th>89</th>\n",
       "      <td>90</td>\n",
       "      <td>M</td>\n",
       "      <td>77.00</td>\n",
       "      <td>Others</td>\n",
       "      <td>65.00</td>\n",
       "      <td>Others</td>\n",
       "      <td>NaN</td>\n",
       "      <td>70.00</td>\n",
       "      <td>Science</td>\n",
       "      <td>1</td>\n",
       "    </tr>\n",
       "    <tr>\n",
       "      <th>102</th>\n",
       "      <td>103</td>\n",
       "      <td>NaN</td>\n",
       "      <td>77.44</td>\n",
       "      <td>Others</td>\n",
       "      <td>77.83</td>\n",
       "      <td>Others</td>\n",
       "      <td>Commerce</td>\n",
       "      <td>71.00</td>\n",
       "      <td>Management</td>\n",
       "      <td>1</td>\n",
       "    </tr>\n",
       "    <tr>\n",
       "      <th>138</th>\n",
       "      <td>139</td>\n",
       "      <td>NaN</td>\n",
       "      <td>60.40</td>\n",
       "      <td>ICSE</td>\n",
       "      <td>51.80</td>\n",
       "      <td>ISC</td>\n",
       "      <td>Commerce</td>\n",
       "      <td>74.80</td>\n",
       "      <td>Commerce</td>\n",
       "      <td>1</td>\n",
       "    </tr>\n",
       "    <tr>\n",
       "      <th>180</th>\n",
       "      <td>181</td>\n",
       "      <td>NaN</td>\n",
       "      <td>47.00</td>\n",
       "      <td>Others</td>\n",
       "      <td>52.00</td>\n",
       "      <td>Others</td>\n",
       "      <td>Science</td>\n",
       "      <td>60.00</td>\n",
       "      <td>Management</td>\n",
       "      <td>1</td>\n",
       "    </tr>\n",
       "    <tr>\n",
       "      <th>202</th>\n",
       "      <td>203</td>\n",
       "      <td>NaN</td>\n",
       "      <td>52.80</td>\n",
       "      <td>CBSE</td>\n",
       "      <td>63.40</td>\n",
       "      <td>CBSE</td>\n",
       "      <td>Commerce</td>\n",
       "      <td>58.60</td>\n",
       "      <td>Management</td>\n",
       "      <td>1</td>\n",
       "    </tr>\n",
       "    <tr>\n",
       "      <th>241</th>\n",
       "      <td>242</td>\n",
       "      <td>NaN</td>\n",
       "      <td>82.00</td>\n",
       "      <td>ICSE</td>\n",
       "      <td>52.00</td>\n",
       "      <td>Others</td>\n",
       "      <td>Science</td>\n",
       "      <td>71.43</td>\n",
       "      <td>Science</td>\n",
       "      <td>1</td>\n",
       "    </tr>\n",
       "  </tbody>\n",
       "</table>\n",
       "</div>"
      ],
      "text/plain": [
       "     Student No Gender  Percent_SSC Board_SSC  Percent_HSC Board_HSC  \\\n",
       "5             6    NaN        55.00      ICSE        64.00      CBSE   \n",
       "12           13      M        60.00    Others        52.80    Others   \n",
       "33           34      F        75.00    Others        77.00    Others   \n",
       "34           35    NaN        60.00      CBSE        72.00      CBSE   \n",
       "44           45    NaN        54.00    Others        60.00    Others   \n",
       "49           50    NaN        74.50      CBSE        58.00      CBSE   \n",
       "60           61      F        75.00      CBSE        58.00      CBSE   \n",
       "62           63    NaN        52.00      CBSE        57.00      CBSE   \n",
       "70           71    NaN        70.00    Others        50.00    Others   \n",
       "89           90      M        77.00    Others        65.00    Others   \n",
       "102         103    NaN        77.44    Others        77.83    Others   \n",
       "138         139    NaN        60.40      ICSE        51.80       ISC   \n",
       "180         181    NaN        47.00    Others        52.00    Others   \n",
       "202         203    NaN        52.80      CBSE        63.40      CBSE   \n",
       "241         242    NaN        82.00      ICSE        52.00    Others   \n",
       "\n",
       "    Stream_HSC  Percent_Degree          Course_Degree  Placement  \n",
       "5     Commerce           50.00               Commerce          1  \n",
       "12         NaN           73.25  Computer Applications          1  \n",
       "33         NaN           73.00             Management          1  \n",
       "34    Commerce           65.00             Management          1  \n",
       "44    Commerce           60.00                    NaN          1  \n",
       "49     Science           58.00             Management          1  \n",
       "60         NaN           69.00                Science          1  \n",
       "62    Commerce           47.00             Management          1  \n",
       "70     Science           60.00             Management          1  \n",
       "89         NaN           70.00                Science          1  \n",
       "102   Commerce           71.00             Management          1  \n",
       "138   Commerce           74.80               Commerce          1  \n",
       "180    Science           60.00             Management          1  \n",
       "202   Commerce           58.60             Management          1  \n",
       "241    Science           71.43                Science          1  "
      ]
     },
     "execution_count": 246,
     "metadata": {},
     "output_type": "execute_result"
    }
   ],
   "source": [
    "train.loc[train['Gender'].isnull() | train.Stream_HSC.isnull()]"
   ]
  },
  {
   "cell_type": "code",
   "execution_count": 247,
   "metadata": {
    "collapsed": false
   },
   "outputs": [],
   "source": [
    "train.Gender = train.Gender.map({\"F\":0,\"M\":1,np.nan:3})"
   ]
  },
  {
   "cell_type": "code",
   "execution_count": 248,
   "metadata": {
    "collapsed": false
   },
   "outputs": [
    {
     "data": {
      "text/plain": [
       "array(['Others', 'ICSE', 'CBSE'], dtype=object)"
      ]
     },
     "execution_count": 248,
     "metadata": {},
     "output_type": "execute_result"
    }
   ],
   "source": [
    "train.Board_SSC.unique()"
   ]
  },
  {
   "cell_type": "code",
   "execution_count": 249,
   "metadata": {
    "collapsed": false
   },
   "outputs": [
    {
     "data": {
      "text/plain": [
       "array(['Others', 'CBSE', 'ISC'], dtype=object)"
      ]
     },
     "execution_count": 249,
     "metadata": {},
     "output_type": "execute_result"
    }
   ],
   "source": [
    "train.Board_HSC.unique()"
   ]
  },
  {
   "cell_type": "code",
   "execution_count": 250,
   "metadata": {
    "collapsed": true
   },
   "outputs": [],
   "source": [
    "#train.Board_HSC = train.Board_HSC.map({\"CBSE\":1,\"ISC\":2,\"Others\":3})"
   ]
  },
  {
   "cell_type": "code",
   "execution_count": 251,
   "metadata": {
    "collapsed": true
   },
   "outputs": [],
   "source": [
    "#train.Board_SSC = train.Board_SSC.map({\"Others\":3,\"ICSE\":2,\"CBSE\":1})"
   ]
  },
  {
   "cell_type": "code",
   "execution_count": 252,
   "metadata": {
    "collapsed": false
   },
   "outputs": [
    {
     "data": {
      "text/plain": [
       "array(['Others', 'ICSE', 'CBSE'], dtype=object)"
      ]
     },
     "execution_count": 252,
     "metadata": {},
     "output_type": "execute_result"
    }
   ],
   "source": [
    "train.Board_SSC.unique()"
   ]
  },
  {
   "cell_type": "code",
   "execution_count": 253,
   "metadata": {
    "collapsed": false
   },
   "outputs": [],
   "source": [
    "#g = sns.heatmap(train[[\"Board_HSC\",\"Board_SSC\",\"Gender\",\"Stream_HSC\",\"Percent_HSC\",\"Percent_SSC\"]].corr(),annot=True,cmap=\"coolwarm\")"
   ]
  },
  {
   "cell_type": "code",
   "execution_count": 254,
   "metadata": {
    "collapsed": false
   },
   "outputs": [
    {
     "data": {
      "text/plain": [
       "array(['Commerce', 'Science', 'Arts', nan], dtype=object)"
      ]
     },
     "execution_count": 254,
     "metadata": {},
     "output_type": "execute_result"
    }
   ],
   "source": [
    "train.Stream_HSC.unique()"
   ]
  },
  {
   "cell_type": "code",
   "execution_count": 255,
   "metadata": {
    "collapsed": true
   },
   "outputs": [],
   "source": [
    "#train.Stream_HSC = train.Stream_HSC.map({\"Commerce\":2,\"Science\":1,\"Arts\":3,np.nan:4})"
   ]
  },
  {
   "cell_type": "code",
   "execution_count": 256,
   "metadata": {
    "collapsed": false
   },
   "outputs": [
    {
     "data": {
      "text/plain": [
       "array(['Commerce', 'Science', 'Arts', nan], dtype=object)"
      ]
     },
     "execution_count": 256,
     "metadata": {},
     "output_type": "execute_result"
    }
   ],
   "source": [
    "train.Stream_HSC.unique()"
   ]
  },
  {
   "cell_type": "code",
   "execution_count": 257,
   "metadata": {
    "collapsed": false
   },
   "outputs": [],
   "source": [
    "## Filling the missing value from Gender ##\n",
    "## Using mode for simillar row including Stream_HSC,Board_HSC,Board_SSC\n",
    "from scipy import stats\n",
    "index_NaN_Gender = list(train[\"Gender\"][(train.Gender == 3)].index)\n",
    "for i in index_NaN_Gender:\n",
    "    genderMode = stats.mode(train.Gender)[0][0]\n",
    "    genderPred = stats.mode(train[\"Gender\"][((train['Board_HSC']==train.iloc[i][\"Board_HSC\"])&\n",
    "                                  (train['Board_SSC']==train.iloc[i][\"Board_SSC\"])&\n",
    "                                  (train['Stream_HSC']==train.iloc[i][\"Stream_HSC\"]))])[0][0]\n",
    "    if  genderPred == 3 :\n",
    "        train['Gender'].iloc[i] = genderPred\n",
    "    else:\n",
    "        train[\"Gender\"].iloc[i] = genderMode\n",
    "    "
   ]
  },
  {
   "cell_type": "code",
   "execution_count": 258,
   "metadata": {
    "collapsed": false
   },
   "outputs": [
    {
     "data": {
      "text/plain": [
       "[]"
      ]
     },
     "execution_count": 258,
     "metadata": {},
     "output_type": "execute_result"
    }
   ],
   "source": [
    "index_NaN_Gender = list(train[\"Gender\"][(train.Gender == 3)].index)\n",
    "index_NaN_Gender"
   ]
  },
  {
   "cell_type": "code",
   "execution_count": 259,
   "metadata": {
    "collapsed": false
   },
   "outputs": [
    {
     "data": {
      "text/plain": [
       "1"
      ]
     },
     "execution_count": 259,
     "metadata": {},
     "output_type": "execute_result"
    }
   ],
   "source": [
    "from scipy import stats\n",
    "stats.mode(train.Gender)[0][0]"
   ]
  },
  {
   "cell_type": "code",
   "execution_count": 260,
   "metadata": {
    "collapsed": false
   },
   "outputs": [
    {
     "data": {
      "text/plain": [
       "array([1, 0], dtype=int64)"
      ]
     },
     "execution_count": 260,
     "metadata": {},
     "output_type": "execute_result"
    }
   ],
   "source": [
    "train.Gender.unique()"
   ]
  },
  {
   "cell_type": "code",
   "execution_count": 261,
   "metadata": {
    "collapsed": false
   },
   "outputs": [
    {
     "data": {
      "text/plain": [
       "10"
      ]
     },
     "execution_count": 261,
     "metadata": {},
     "output_type": "execute_result"
    }
   ],
   "source": [
    "train[\"Percent_HSC\"].isnull().sum()"
   ]
  },
  {
   "cell_type": "code",
   "execution_count": 262,
   "metadata": {
    "collapsed": false
   },
   "outputs": [
    {
     "data": {
      "text/html": [
       "<div>\n",
       "<table border=\"1\" class=\"dataframe\">\n",
       "  <thead>\n",
       "    <tr style=\"text-align: right;\">\n",
       "      <th></th>\n",
       "      <th>Student No</th>\n",
       "      <th>Gender</th>\n",
       "      <th>Percent_SSC</th>\n",
       "      <th>Board_SSC</th>\n",
       "      <th>Percent_HSC</th>\n",
       "      <th>Board_HSC</th>\n",
       "      <th>Stream_HSC</th>\n",
       "      <th>Percent_Degree</th>\n",
       "      <th>Course_Degree</th>\n",
       "      <th>Placement</th>\n",
       "    </tr>\n",
       "  </thead>\n",
       "  <tbody>\n",
       "    <tr>\n",
       "      <th>31</th>\n",
       "      <td>32</td>\n",
       "      <td>1</td>\n",
       "      <td>58.0</td>\n",
       "      <td>CBSE</td>\n",
       "      <td>NaN</td>\n",
       "      <td>Others</td>\n",
       "      <td>Science</td>\n",
       "      <td>67.75</td>\n",
       "      <td>Engineering</td>\n",
       "      <td>1</td>\n",
       "    </tr>\n",
       "    <tr>\n",
       "      <th>52</th>\n",
       "      <td>53</td>\n",
       "      <td>0</td>\n",
       "      <td>68.0</td>\n",
       "      <td>CBSE</td>\n",
       "      <td>NaN</td>\n",
       "      <td>CBSE</td>\n",
       "      <td>Commerce</td>\n",
       "      <td>40.00</td>\n",
       "      <td>Commerce</td>\n",
       "      <td>1</td>\n",
       "    </tr>\n",
       "    <tr>\n",
       "      <th>69</th>\n",
       "      <td>70</td>\n",
       "      <td>0</td>\n",
       "      <td>76.0</td>\n",
       "      <td>CBSE</td>\n",
       "      <td>NaN</td>\n",
       "      <td>CBSE</td>\n",
       "      <td>Science</td>\n",
       "      <td>59.60</td>\n",
       "      <td>Engineering</td>\n",
       "      <td>1</td>\n",
       "    </tr>\n",
       "    <tr>\n",
       "      <th>95</th>\n",
       "      <td>96</td>\n",
       "      <td>1</td>\n",
       "      <td>55.0</td>\n",
       "      <td>Others</td>\n",
       "      <td>NaN</td>\n",
       "      <td>Others</td>\n",
       "      <td>Commerce</td>\n",
       "      <td>55.40</td>\n",
       "      <td>Commerce</td>\n",
       "      <td>1</td>\n",
       "    </tr>\n",
       "    <tr>\n",
       "      <th>101</th>\n",
       "      <td>102</td>\n",
       "      <td>1</td>\n",
       "      <td>69.0</td>\n",
       "      <td>CBSE</td>\n",
       "      <td>NaN</td>\n",
       "      <td>CBSE</td>\n",
       "      <td>Science</td>\n",
       "      <td>68.00</td>\n",
       "      <td>Management</td>\n",
       "      <td>1</td>\n",
       "    </tr>\n",
       "    <tr>\n",
       "      <th>107</th>\n",
       "      <td>108</td>\n",
       "      <td>1</td>\n",
       "      <td>50.0</td>\n",
       "      <td>ICSE</td>\n",
       "      <td>NaN</td>\n",
       "      <td>Others</td>\n",
       "      <td>Commerce</td>\n",
       "      <td>50.00</td>\n",
       "      <td>Commerce</td>\n",
       "      <td>1</td>\n",
       "    </tr>\n",
       "    <tr>\n",
       "      <th>135</th>\n",
       "      <td>136</td>\n",
       "      <td>1</td>\n",
       "      <td>48.6</td>\n",
       "      <td>CBSE</td>\n",
       "      <td>NaN</td>\n",
       "      <td>CBSE</td>\n",
       "      <td>Commerce</td>\n",
       "      <td>66.20</td>\n",
       "      <td>Management</td>\n",
       "      <td>1</td>\n",
       "    </tr>\n",
       "    <tr>\n",
       "      <th>192</th>\n",
       "      <td>193</td>\n",
       "      <td>0</td>\n",
       "      <td>64.5</td>\n",
       "      <td>CBSE</td>\n",
       "      <td>NaN</td>\n",
       "      <td>ISC</td>\n",
       "      <td>Science</td>\n",
       "      <td>68.00</td>\n",
       "      <td>Computer Applications</td>\n",
       "      <td>1</td>\n",
       "    </tr>\n",
       "    <tr>\n",
       "      <th>230</th>\n",
       "      <td>231</td>\n",
       "      <td>0</td>\n",
       "      <td>64.0</td>\n",
       "      <td>Others</td>\n",
       "      <td>NaN</td>\n",
       "      <td>Others</td>\n",
       "      <td>Science</td>\n",
       "      <td>61.00</td>\n",
       "      <td>Engineering</td>\n",
       "      <td>0</td>\n",
       "    </tr>\n",
       "    <tr>\n",
       "      <th>254</th>\n",
       "      <td>255</td>\n",
       "      <td>1</td>\n",
       "      <td>58.0</td>\n",
       "      <td>Others</td>\n",
       "      <td>NaN</td>\n",
       "      <td>Others</td>\n",
       "      <td>Commerce</td>\n",
       "      <td>49.85</td>\n",
       "      <td>Commerce</td>\n",
       "      <td>1</td>\n",
       "    </tr>\n",
       "  </tbody>\n",
       "</table>\n",
       "</div>"
      ],
      "text/plain": [
       "     Student No  Gender  Percent_SSC Board_SSC  Percent_HSC Board_HSC  \\\n",
       "31           32       1         58.0      CBSE          NaN    Others   \n",
       "52           53       0         68.0      CBSE          NaN      CBSE   \n",
       "69           70       0         76.0      CBSE          NaN      CBSE   \n",
       "95           96       1         55.0    Others          NaN    Others   \n",
       "101         102       1         69.0      CBSE          NaN      CBSE   \n",
       "107         108       1         50.0      ICSE          NaN    Others   \n",
       "135         136       1         48.6      CBSE          NaN      CBSE   \n",
       "192         193       0         64.5      CBSE          NaN       ISC   \n",
       "230         231       0         64.0    Others          NaN    Others   \n",
       "254         255       1         58.0    Others          NaN    Others   \n",
       "\n",
       "    Stream_HSC  Percent_Degree          Course_Degree  Placement  \n",
       "31     Science           67.75            Engineering          1  \n",
       "52    Commerce           40.00               Commerce          1  \n",
       "69     Science           59.60            Engineering          1  \n",
       "95    Commerce           55.40               Commerce          1  \n",
       "101    Science           68.00             Management          1  \n",
       "107   Commerce           50.00               Commerce          1  \n",
       "135   Commerce           66.20             Management          1  \n",
       "192    Science           68.00  Computer Applications          1  \n",
       "230    Science           61.00            Engineering          0  \n",
       "254   Commerce           49.85               Commerce          1  "
      ]
     },
     "execution_count": 262,
     "metadata": {},
     "output_type": "execute_result"
    }
   ],
   "source": [
    "### Filling Missing Value for Percent_HSC ###\n",
    "## Taking the median of the male and female Percent_HSC respectively for missing values ##\n",
    "train.loc[train.Percent_HSC.isnull()]"
   ]
  },
  {
   "cell_type": "code",
   "execution_count": 263,
   "metadata": {
    "collapsed": false
   },
   "outputs": [
    {
     "name": "stdout",
     "output_type": "stream",
     "text": [
      "68.0\n",
      "62.0\n",
      "0\n"
     ]
    }
   ],
   "source": [
    "#### Missing Values imputation for Percent_HSC ####\n",
    "\n",
    "index_NaN_Percent_HSC = list(train['Percent_HSC'][train.Percent_HSC.isnull()].index)\n",
    "malePercentMedian = train[\"Percent_HSC\"][train.Gender == 1].median()\n",
    "femalePercentMedian = train[\"Percent_HSC\"][train.Gender == 0].median()\n",
    "print(femalePercentMedian) \n",
    "print(malePercentMedian)\n",
    "for i in index_NaN_Percent_HSC:\n",
    "    if train.Gender.iloc[i] == 1:\n",
    "        train.Percent_HSC.iloc[i] = malePercentMedian\n",
    "    else:\n",
    "        train.Percent_HSC.iloc[i] = femalePercentMedian\n",
    "\n",
    "print(train.Percent_HSC.isnull().sum())        "
   ]
  },
  {
   "cell_type": "code",
   "execution_count": 264,
   "metadata": {
    "collapsed": false
   },
   "outputs": [
    {
     "data": {
      "text/plain": [
       "1"
      ]
     },
     "execution_count": 264,
     "metadata": {},
     "output_type": "execute_result"
    }
   ],
   "source": [
    "train.Gender.iloc[254]"
   ]
  },
  {
   "cell_type": "code",
   "execution_count": 265,
   "metadata": {
    "collapsed": false
   },
   "outputs": [
    {
     "data": {
      "image/png": "[encoded data removed]",
      "text/plain": [
       "<matplotlib.figure.Figure at 0xb800f28>"
      ]
     },
     "metadata": {},
     "output_type": "display_data"
    }
   ],
   "source": [
    "g = sns.distplot(train[\"Percent_HSC\"],color=\"b\",label=\"Skewness : %.2f\"%(train.Percent_HSC.skew()))\n",
    "g = g.legend(loc=\"best\")"
   ]
  },
  {
   "cell_type": "code",
   "execution_count": 266,
   "metadata": {
    "collapsed": false
   },
   "outputs": [
    {
     "data": {
      "image/png": "[encoded data removed]",
      "text/plain": [
       "<matplotlib.figure.Figure at 0xc2e2fd0>"
      ]
     },
     "metadata": {},
     "output_type": "display_data"
    }
   ],
   "source": [
    "g = sns.distplot(train[\"Percent_SSC\"],color=\"r\",label=\"Skewness : %.2f\"%(train.Percent_SSC.skew()))\n",
    "g = g.legend(loc=\"best\")"
   ]
  },
  {
   "cell_type": "code",
   "execution_count": 267,
   "metadata": {
    "collapsed": false
   },
   "outputs": [
    {
     "data": {
      "image/png": "[encoded data removed]",
      "text/plain": [
       "<matplotlib.figure.Figure at 0xa354748>"
      ]
     },
     "metadata": {},
     "output_type": "display_data"
    }
   ],
   "source": [
    "g = sns.factorplot(y=\"Percent_HSC\",x=\"Placement\",data=train,kind=\"box\")\n",
    "## Since the inter qurtile range is more in case of Male gender thus showing more deviation and that is why \n",
    "#we cannot take mean for our analysis as it will be baised towards right. "
   ]
  },
  {
   "cell_type": "code",
   "execution_count": 268,
   "metadata": {
    "collapsed": false
   },
   "outputs": [
    {
     "data": {
      "text/html": [
       "<div>\n",
       "<table border=\"1\" class=\"dataframe\">\n",
       "  <thead>\n",
       "    <tr style=\"text-align: right;\">\n",
       "      <th></th>\n",
       "      <th>Student No</th>\n",
       "      <th>Gender</th>\n",
       "      <th>Percent_SSC</th>\n",
       "      <th>Board_SSC</th>\n",
       "      <th>Percent_HSC</th>\n",
       "      <th>Board_HSC</th>\n",
       "      <th>Stream_HSC</th>\n",
       "      <th>Percent_Degree</th>\n",
       "      <th>Course_Degree</th>\n",
       "      <th>Placement</th>\n",
       "    </tr>\n",
       "  </thead>\n",
       "  <tbody>\n",
       "    <tr>\n",
       "      <th>10</th>\n",
       "      <td>11</td>\n",
       "      <td>0</td>\n",
       "      <td>79.6</td>\n",
       "      <td>Others</td>\n",
       "      <td>87.00</td>\n",
       "      <td>ISC</td>\n",
       "      <td>Commerce</td>\n",
       "      <td>72.35</td>\n",
       "      <td>NaN</td>\n",
       "      <td>0</td>\n",
       "    </tr>\n",
       "    <tr>\n",
       "      <th>12</th>\n",
       "      <td>13</td>\n",
       "      <td>1</td>\n",
       "      <td>60.0</td>\n",
       "      <td>Others</td>\n",
       "      <td>52.80</td>\n",
       "      <td>Others</td>\n",
       "      <td>NaN</td>\n",
       "      <td>73.25</td>\n",
       "      <td>Computer Applications</td>\n",
       "      <td>1</td>\n",
       "    </tr>\n",
       "    <tr>\n",
       "      <th>33</th>\n",
       "      <td>34</td>\n",
       "      <td>0</td>\n",
       "      <td>75.0</td>\n",
       "      <td>Others</td>\n",
       "      <td>77.00</td>\n",
       "      <td>Others</td>\n",
       "      <td>NaN</td>\n",
       "      <td>73.00</td>\n",
       "      <td>Management</td>\n",
       "      <td>1</td>\n",
       "    </tr>\n",
       "    <tr>\n",
       "      <th>44</th>\n",
       "      <td>45</td>\n",
       "      <td>1</td>\n",
       "      <td>54.0</td>\n",
       "      <td>Others</td>\n",
       "      <td>60.00</td>\n",
       "      <td>Others</td>\n",
       "      <td>Commerce</td>\n",
       "      <td>60.00</td>\n",
       "      <td>NaN</td>\n",
       "      <td>1</td>\n",
       "    </tr>\n",
       "    <tr>\n",
       "      <th>60</th>\n",
       "      <td>61</td>\n",
       "      <td>0</td>\n",
       "      <td>75.0</td>\n",
       "      <td>CBSE</td>\n",
       "      <td>58.00</td>\n",
       "      <td>CBSE</td>\n",
       "      <td>NaN</td>\n",
       "      <td>69.00</td>\n",
       "      <td>Science</td>\n",
       "      <td>1</td>\n",
       "    </tr>\n",
       "    <tr>\n",
       "      <th>89</th>\n",
       "      <td>90</td>\n",
       "      <td>1</td>\n",
       "      <td>77.0</td>\n",
       "      <td>Others</td>\n",
       "      <td>65.00</td>\n",
       "      <td>Others</td>\n",
       "      <td>NaN</td>\n",
       "      <td>70.00</td>\n",
       "      <td>Science</td>\n",
       "      <td>1</td>\n",
       "    </tr>\n",
       "    <tr>\n",
       "      <th>100</th>\n",
       "      <td>101</td>\n",
       "      <td>1</td>\n",
       "      <td>44.6</td>\n",
       "      <td>CBSE</td>\n",
       "      <td>60.58</td>\n",
       "      <td>Others</td>\n",
       "      <td>Science</td>\n",
       "      <td>68.11</td>\n",
       "      <td>NaN</td>\n",
       "      <td>1</td>\n",
       "    </tr>\n",
       "  </tbody>\n",
       "</table>\n",
       "</div>"
      ],
      "text/plain": [
       "     Student No  Gender  Percent_SSC Board_SSC  Percent_HSC Board_HSC  \\\n",
       "10           11       0         79.6    Others        87.00       ISC   \n",
       "12           13       1         60.0    Others        52.80    Others   \n",
       "33           34       0         75.0    Others        77.00    Others   \n",
       "44           45       1         54.0    Others        60.00    Others   \n",
       "60           61       0         75.0      CBSE        58.00      CBSE   \n",
       "89           90       1         77.0    Others        65.00    Others   \n",
       "100         101       1         44.6      CBSE        60.58    Others   \n",
       "\n",
       "    Stream_HSC  Percent_Degree          Course_Degree  Placement  \n",
       "10    Commerce           72.35                    NaN          0  \n",
       "12         NaN           73.25  Computer Applications          1  \n",
       "33         NaN           73.00             Management          1  \n",
       "44    Commerce           60.00                    NaN          1  \n",
       "60         NaN           69.00                Science          1  \n",
       "89         NaN           70.00                Science          1  \n",
       "100    Science           68.11                    NaN          1  "
      ]
     },
     "execution_count": 268,
     "metadata": {},
     "output_type": "execute_result"
    }
   ],
   "source": [
    "train.loc[(train.Stream_HSC.isnull()) | (train.Course_Degree.isnull())]"
   ]
  },
  {
   "cell_type": "code",
   "execution_count": 269,
   "metadata": {
    "collapsed": false
   },
   "outputs": [
    {
     "data": {
      "text/plain": [
       "array(['Science', 'Computer Applications', 'Engineering', 'Management',\n",
       "       'Commerce', 'Others', nan, 'Arts'], dtype=object)"
      ]
     },
     "execution_count": 269,
     "metadata": {},
     "output_type": "execute_result"
    }
   ],
   "source": [
    "train.Course_Degree.unique()"
   ]
  },
  {
   "cell_type": "code",
   "execution_count": 270,
   "metadata": {
    "collapsed": false
   },
   "outputs": [],
   "source": [
    "#train.Course_Degree = train.Course_Degree.map({\"Science\":1,\"Computer Applications\":2,\"Engineering\":3,\"Management\":4,\"Commerce\":5,\"Others\":6,\"Arts\":7,np.nan:8})"
   ]
  },
  {
   "cell_type": "code",
   "execution_count": 271,
   "metadata": {
    "collapsed": false
   },
   "outputs": [],
   "source": [
    "#g = sns.heatmap(train[[\"Board_HSC\",\"Board_SSC\",\"Gender\",\"Stream_HSC\",\"Percent_HSC\",\"Percent_SSC\",\"Course_Degree\"]].corr(),annot=True,cmap=\"coolwarm\")"
   ]
  },
  {
   "cell_type": "code",
   "execution_count": 272,
   "metadata": {
    "collapsed": true
   },
   "outputs": [],
   "source": [
    "train.Course_Degree = train.Course_Degree.fillna('Missing')"
   ]
  },
  {
   "cell_type": "code",
   "execution_count": 273,
   "metadata": {
    "collapsed": false
   },
   "outputs": [
    {
     "data": {
      "text/plain": [
       "<matplotlib.text.Text at 0xb939748>"
      ]
     },
     "execution_count": 273,
     "metadata": {},
     "output_type": "execute_result"
    },
    {
     "data": {
      "image/png": "[encoded data removed]",
      "text/plain": [
       "<matplotlib.figure.Figure at 0xb862e48>"
      ]
     },
     "metadata": {},
     "output_type": "display_data"
    }
   ],
   "source": [
    "### lets look into the bar plot for the categorical columns ###\n",
    "fig = train['Course_Degree'].value_counts().plot.bar()\n",
    "fig.set_title('Course_Degree')\n",
    "fig.set_ylabel('Count of Students')"
   ]
  },
  {
   "cell_type": "code",
   "execution_count": 274,
   "metadata": {
    "collapsed": false
   },
   "outputs": [
    {
     "name": "stdout",
     "output_type": "stream",
     "text": [
      "Management               126\n",
      "Commerce                  87\n",
      "Engineering               30\n",
      "Science                   22\n",
      "Computer Applications     20\n",
      "Arts                       8\n",
      "Others                     4\n",
      "Missing                    3\n",
      "Name: Course_Degree, dtype: int64\n",
      "['Science' 'Computer Applications' 'Engineering' 'Management' 'Commerce'\n",
      " 'Others' 'Missing' 'Arts']\n"
     ]
    }
   ],
   "source": [
    "print(train.Course_Degree.value_counts())\n",
    "print(train.Course_Degree.unique()\n",
    "     )"
   ]
  },
  {
   "cell_type": "code",
   "execution_count": 275,
   "metadata": {
    "collapsed": false
   },
   "outputs": [
    {
     "name": "stdout",
     "output_type": "stream",
     "text": [
      "<class 'pandas.core.frame.DataFrame'>\n",
      "RangeIndex: 300 entries, 0 to 299\n",
      "Data columns (total 10 columns):\n",
      "Student No        300 non-null int64\n",
      "Gender            300 non-null int64\n",
      "Percent_SSC       300 non-null float64\n",
      "Board_SSC         300 non-null object\n",
      "Percent_HSC       300 non-null float64\n",
      "Board_HSC         300 non-null object\n",
      "Stream_HSC        296 non-null object\n",
      "Percent_Degree    300 non-null float64\n",
      "Course_Degree     300 non-null object\n",
      "Placement         300 non-null int64\n",
      "dtypes: float64(3), int64(3), object(4)\n",
      "memory usage: 23.5+ KB\n"
     ]
    }
   ],
   "source": [
    "train.info()"
   ]
  },
  {
   "cell_type": "code",
   "execution_count": 276,
   "metadata": {
    "collapsed": false
   },
   "outputs": [
    {
     "name": "stdout",
     "output_type": "stream",
     "text": [
      "['Commerce' 'Science' 'Arts' nan]\n"
     ]
    }
   ],
   "source": [
    "print(train.Stream_HSC.unique())"
   ]
  },
  {
   "cell_type": "code",
   "execution_count": 277,
   "metadata": {
    "collapsed": true
   },
   "outputs": [],
   "source": [
    "train.Stream_HSC = train.Stream_HSC.fillna('Missing')"
   ]
  },
  {
   "cell_type": "code",
   "execution_count": 278,
   "metadata": {
    "collapsed": false
   },
   "outputs": [
    {
     "data": {
      "text/plain": [
       "<matplotlib.text.Text at 0xc29c128>"
      ]
     },
     "execution_count": 278,
     "metadata": {},
     "output_type": "execute_result"
    },
    {
     "data": {
      "image/png": "[encoded data removed]",
      "text/plain": [
       "<matplotlib.figure.Figure at 0xbe78550>"
      ]
     },
     "metadata": {},
     "output_type": "display_data"
    }
   ],
   "source": [
    "fig = train['Stream_HSC'].value_counts().plot.bar()\n",
    "fig.set_title(\"12th Stream\")\n",
    "fig.set_xlabel(\"Stream_HSC\")"
   ]
  },
  {
   "cell_type": "code",
   "execution_count": 279,
   "metadata": {
    "collapsed": false
   },
   "outputs": [
    {
     "name": "stdout",
     "output_type": "stream",
     "text": [
      "<class 'pandas.core.frame.DataFrame'>\n",
      "RangeIndex: 300 entries, 0 to 299\n",
      "Data columns (total 10 columns):\n",
      "Student No        300 non-null int64\n",
      "Gender            300 non-null int64\n",
      "Percent_SSC       300 non-null float64\n",
      "Board_SSC         300 non-null object\n",
      "Percent_HSC       300 non-null float64\n",
      "Board_HSC         300 non-null object\n",
      "Stream_HSC        300 non-null object\n",
      "Percent_Degree    300 non-null float64\n",
      "Course_Degree     300 non-null object\n",
      "Placement         300 non-null int64\n",
      "dtypes: float64(3), int64(3), object(4)\n",
      "memory usage: 23.5+ KB\n"
     ]
    }
   ],
   "source": [
    "train.info()"
   ]
  },
  {
   "cell_type": "code",
   "execution_count": 280,
   "metadata": {
    "collapsed": false
   },
   "outputs": [
    {
     "data": {
      "text/html": [
       "<div>\n",
       "<table border=\"1\" class=\"dataframe\">\n",
       "  <thead>\n",
       "    <tr style=\"text-align: right;\">\n",
       "      <th>Stream_HSC</th>\n",
       "      <th>Arts</th>\n",
       "      <th>Commerce</th>\n",
       "      <th>Missing</th>\n",
       "      <th>Science</th>\n",
       "    </tr>\n",
       "    <tr>\n",
       "      <th>Gender</th>\n",
       "      <th></th>\n",
       "      <th></th>\n",
       "      <th></th>\n",
       "      <th></th>\n",
       "    </tr>\n",
       "  </thead>\n",
       "  <tbody>\n",
       "    <tr>\n",
       "      <th>0</th>\n",
       "      <td>8</td>\n",
       "      <td>47</td>\n",
       "      <td>2</td>\n",
       "      <td>34</td>\n",
       "    </tr>\n",
       "    <tr>\n",
       "      <th>1</th>\n",
       "      <td>7</td>\n",
       "      <td>118</td>\n",
       "      <td>2</td>\n",
       "      <td>82</td>\n",
       "    </tr>\n",
       "  </tbody>\n",
       "</table>\n",
       "</div>"
      ],
      "text/plain": [
       "Stream_HSC  Arts  Commerce  Missing  Science\n",
       "Gender                                      \n",
       "0              8        47        2       34\n",
       "1              7       118        2       82"
      ]
     },
     "execution_count": 280,
     "metadata": {},
     "output_type": "execute_result"
    }
   ],
   "source": [
    "pd.crosstab(train.Gender,train.Stream_HSC)"
   ]
  },
  {
   "cell_type": "code",
   "execution_count": 281,
   "metadata": {
    "collapsed": false
   },
   "outputs": [
    {
     "data": {
      "text/html": [
       "<div>\n",
       "<table border=\"1\" class=\"dataframe\">\n",
       "  <thead>\n",
       "    <tr style=\"text-align: right;\">\n",
       "      <th>Course_Degree</th>\n",
       "      <th>Arts</th>\n",
       "      <th>Commerce</th>\n",
       "      <th>Computer Applications</th>\n",
       "      <th>Engineering</th>\n",
       "      <th>Management</th>\n",
       "      <th>Missing</th>\n",
       "      <th>Others</th>\n",
       "      <th>Science</th>\n",
       "    </tr>\n",
       "    <tr>\n",
       "      <th>Gender</th>\n",
       "      <th></th>\n",
       "      <th></th>\n",
       "      <th></th>\n",
       "      <th></th>\n",
       "      <th></th>\n",
       "      <th></th>\n",
       "      <th></th>\n",
       "      <th></th>\n",
       "    </tr>\n",
       "  </thead>\n",
       "  <tbody>\n",
       "    <tr>\n",
       "      <th>0</th>\n",
       "      <td>5</td>\n",
       "      <td>24</td>\n",
       "      <td>6</td>\n",
       "      <td>8</td>\n",
       "      <td>40</td>\n",
       "      <td>1</td>\n",
       "      <td>1</td>\n",
       "      <td>6</td>\n",
       "    </tr>\n",
       "    <tr>\n",
       "      <th>1</th>\n",
       "      <td>3</td>\n",
       "      <td>63</td>\n",
       "      <td>14</td>\n",
       "      <td>22</td>\n",
       "      <td>86</td>\n",
       "      <td>2</td>\n",
       "      <td>3</td>\n",
       "      <td>16</td>\n",
       "    </tr>\n",
       "  </tbody>\n",
       "</table>\n",
       "</div>"
      ],
      "text/plain": [
       "Course_Degree  Arts  Commerce  Computer Applications  Engineering  Management  \\\n",
       "Gender                                                                          \n",
       "0                 5        24                      6            8          40   \n",
       "1                 3        63                     14           22          86   \n",
       "\n",
       "Course_Degree  Missing  Others  Science  \n",
       "Gender                                   \n",
       "0                    1       1        6  \n",
       "1                    2       3       16  "
      ]
     },
     "execution_count": 281,
     "metadata": {},
     "output_type": "execute_result"
    }
   ],
   "source": [
    "pd.crosstab(train.Gender,train.Course_Degree)"
   ]
  },
  {
   "cell_type": "code",
   "execution_count": 282,
   "metadata": {
    "collapsed": false
   },
   "outputs": [
    {
     "data": {
      "text/html": [
       "<div>\n",
       "<table border=\"1\" class=\"dataframe\">\n",
       "  <thead>\n",
       "    <tr style=\"text-align: right;\">\n",
       "      <th></th>\n",
       "      <th></th>\n",
       "      <th></th>\n",
       "      <th></th>\n",
       "      <th></th>\n",
       "      <th></th>\n",
       "      <th>Percent_Degree</th>\n",
       "      <th>Percent_HSC</th>\n",
       "      <th>Percent_SSC</th>\n",
       "      <th>Student No</th>\n",
       "    </tr>\n",
       "    <tr>\n",
       "      <th>Gender</th>\n",
       "      <th>Stream_HSC</th>\n",
       "      <th>Course_Degree</th>\n",
       "      <th>Board_SSC</th>\n",
       "      <th>Board_HSC</th>\n",
       "      <th>Placement</th>\n",
       "      <th></th>\n",
       "      <th></th>\n",
       "      <th></th>\n",
       "      <th></th>\n",
       "    </tr>\n",
       "  </thead>\n",
       "  <tbody>\n",
       "    <tr>\n",
       "      <th rowspan=\"46\" valign=\"top\">0</th>\n",
       "      <th rowspan=\"7\" valign=\"top\">Arts</th>\n",
       "      <th rowspan=\"3\" valign=\"top\">Arts</th>\n",
       "      <th>ICSE</th>\n",
       "      <th>ISC</th>\n",
       "      <th>1</th>\n",
       "      <td>50.000000</td>\n",
       "      <td>83.000000</td>\n",
       "      <td>74.000000</td>\n",
       "      <td>253.000000</td>\n",
       "    </tr>\n",
       "    <tr>\n",
       "      <th rowspan=\"2\" valign=\"top\">Others</th>\n",
       "      <th rowspan=\"2\" valign=\"top\">Others</th>\n",
       "      <th>0</th>\n",
       "      <td>54.000000</td>\n",
       "      <td>40.000000</td>\n",
       "      <td>53.000000</td>\n",
       "      <td>82.000000</td>\n",
       "    </tr>\n",
       "    <tr>\n",
       "      <th>1</th>\n",
       "      <td>38.000000</td>\n",
       "      <td>59.000000</td>\n",
       "      <td>52.000000</td>\n",
       "      <td>145.000000</td>\n",
       "    </tr>\n",
       "    <tr>\n",
       "      <th rowspan=\"4\" valign=\"top\">Management</th>\n",
       "      <th>CBSE</th>\n",
       "      <th>CBSE</th>\n",
       "      <th>1</th>\n",
       "      <td>63.500000</td>\n",
       "      <td>69.000000</td>\n",
       "      <td>54.500000</td>\n",
       "      <td>120.000000</td>\n",
       "    </tr>\n",
       "    <tr>\n",
       "      <th>ICSE</th>\n",
       "      <th>ISC</th>\n",
       "      <th>1</th>\n",
       "      <td>65.300000</td>\n",
       "      <td>61.800000</td>\n",
       "      <td>61.500000</td>\n",
       "      <td>208.000000</td>\n",
       "    </tr>\n",
       "    <tr>\n",
       "      <th rowspan=\"2\" valign=\"top\">Others</th>\n",
       "      <th>CBSE</th>\n",
       "      <th>1</th>\n",
       "      <td>67.930000</td>\n",
       "      <td>65.400000</td>\n",
       "      <td>61.500000</td>\n",
       "      <td>138.000000</td>\n",
       "    </tr>\n",
       "    <tr>\n",
       "      <th>Others</th>\n",
       "      <th>1</th>\n",
       "      <td>70.000000</td>\n",
       "      <td>70.000000</td>\n",
       "      <td>53.440000</td>\n",
       "      <td>207.000000</td>\n",
       "    </tr>\n",
       "    <tr>\n",
       "      <th rowspan=\"19\" valign=\"top\">Commerce</th>\n",
       "      <th>Arts</th>\n",
       "      <th>CBSE</th>\n",
       "      <th>CBSE</th>\n",
       "      <th>0</th>\n",
       "      <td>42.000000</td>\n",
       "      <td>69.000000</td>\n",
       "      <td>50.000000</td>\n",
       "      <td>100.000000</td>\n",
       "    </tr>\n",
       "    <tr>\n",
       "      <th rowspan=\"9\" valign=\"top\">Commerce</th>\n",
       "      <th rowspan=\"3\" valign=\"top\">CBSE</th>\n",
       "      <th rowspan=\"2\" valign=\"top\">CBSE</th>\n",
       "      <th>0</th>\n",
       "      <td>55.305000</td>\n",
       "      <td>58.300000</td>\n",
       "      <td>51.200000</td>\n",
       "      <td>169.250000</td>\n",
       "    </tr>\n",
       "    <tr>\n",
       "      <th>1</th>\n",
       "      <td>56.333333</td>\n",
       "      <td>71.000000</td>\n",
       "      <td>65.333333</td>\n",
       "      <td>98.000000</td>\n",
       "    </tr>\n",
       "    <tr>\n",
       "      <th>Others</th>\n",
       "      <th>1</th>\n",
       "      <td>75.000000</td>\n",
       "      <td>78.000000</td>\n",
       "      <td>65.000000</td>\n",
       "      <td>87.000000</td>\n",
       "    </tr>\n",
       "    <tr>\n",
       "      <th rowspan=\"3\" valign=\"top\">ICSE</th>\n",
       "      <th>ISC</th>\n",
       "      <th>1</th>\n",
       "      <td>60.783333</td>\n",
       "      <td>74.500000</td>\n",
       "      <td>64.053333</td>\n",
       "      <td>179.333333</td>\n",
       "    </tr>\n",
       "    <tr>\n",
       "      <th rowspan=\"2\" valign=\"top\">Others</th>\n",
       "      <th>0</th>\n",
       "      <td>67.800000</td>\n",
       "      <td>75.000000</td>\n",
       "      <td>67.670000</td>\n",
       "      <td>298.000000</td>\n",
       "    </tr>\n",
       "    <tr>\n",
       "      <th>1</th>\n",
       "      <td>74.125000</td>\n",
       "      <td>75.875000</td>\n",
       "      <td>72.985000</td>\n",
       "      <td>152.500000</td>\n",
       "    </tr>\n",
       "    <tr>\n",
       "      <th rowspan=\"3\" valign=\"top\">Others</th>\n",
       "      <th>CBSE</th>\n",
       "      <th>1</th>\n",
       "      <td>50.200000</td>\n",
       "      <td>59.600000</td>\n",
       "      <td>57.580000</td>\n",
       "      <td>52.000000</td>\n",
       "    </tr>\n",
       "    <tr>\n",
       "      <th rowspan=\"2\" valign=\"top\">Others</th>\n",
       "      <th>0</th>\n",
       "      <td>70.000000</td>\n",
       "      <td>50.515000</td>\n",
       "      <td>46.445000</td>\n",
       "      <td>52.500000</td>\n",
       "    </tr>\n",
       "    <tr>\n",
       "      <th>1</th>\n",
       "      <td>68.800000</td>\n",
       "      <td>75.366000</td>\n",
       "      <td>76.128000</td>\n",
       "      <td>160.600000</td>\n",
       "    </tr>\n",
       "    <tr>\n",
       "      <th>Computer Applications</th>\n",
       "      <th>CBSE</th>\n",
       "      <th>CBSE</th>\n",
       "      <th>1</th>\n",
       "      <td>78.700000</td>\n",
       "      <td>50.000000</td>\n",
       "      <td>77.700000</td>\n",
       "      <td>121.000000</td>\n",
       "    </tr>\n",
       "    <tr>\n",
       "      <th rowspan=\"7\" valign=\"top\">Management</th>\n",
       "      <th rowspan=\"2\" valign=\"top\">CBSE</th>\n",
       "      <th>CBSE</th>\n",
       "      <th>1</th>\n",
       "      <td>69.533333</td>\n",
       "      <td>67.916667</td>\n",
       "      <td>66.000000</td>\n",
       "      <td>142.333333</td>\n",
       "    </tr>\n",
       "    <tr>\n",
       "      <th>Others</th>\n",
       "      <th>0</th>\n",
       "      <td>51.000000</td>\n",
       "      <td>40.000000</td>\n",
       "      <td>40.000000</td>\n",
       "      <td>42.000000</td>\n",
       "    </tr>\n",
       "    <tr>\n",
       "      <th rowspan=\"3\" valign=\"top\">ICSE</th>\n",
       "      <th>ISC</th>\n",
       "      <th>1</th>\n",
       "      <td>74.550000</td>\n",
       "      <td>78.500000</td>\n",
       "      <td>66.500000</td>\n",
       "      <td>124.000000</td>\n",
       "    </tr>\n",
       "    <tr>\n",
       "      <th rowspan=\"2\" valign=\"top\">Others</th>\n",
       "      <th>0</th>\n",
       "      <td>80.000000</td>\n",
       "      <td>86.330000</td>\n",
       "      <td>68.300000</td>\n",
       "      <td>284.000000</td>\n",
       "    </tr>\n",
       "    <tr>\n",
       "      <th>1</th>\n",
       "      <td>76.000000</td>\n",
       "      <td>87.000000</td>\n",
       "      <td>87.000000</td>\n",
       "      <td>224.000000</td>\n",
       "    </tr>\n",
       "    <tr>\n",
       "      <th rowspan=\"2\" valign=\"top\">Others</th>\n",
       "      <th rowspan=\"2\" valign=\"top\">Others</th>\n",
       "      <th>0</th>\n",
       "      <td>67.433333</td>\n",
       "      <td>71.343333</td>\n",
       "      <td>66.573333</td>\n",
       "      <td>198.333333</td>\n",
       "    </tr>\n",
       "    <tr>\n",
       "      <th>1</th>\n",
       "      <td>69.533333</td>\n",
       "      <td>68.165000</td>\n",
       "      <td>73.966667</td>\n",
       "      <td>137.000000</td>\n",
       "    </tr>\n",
       "    <tr>\n",
       "      <th>Missing</th>\n",
       "      <th>Others</th>\n",
       "      <th>ISC</th>\n",
       "      <th>0</th>\n",
       "      <td>72.350000</td>\n",
       "      <td>87.000000</td>\n",
       "      <td>79.600000</td>\n",
       "      <td>11.000000</td>\n",
       "    </tr>\n",
       "    <tr>\n",
       "      <th rowspan=\"2\" valign=\"top\">Missing</th>\n",
       "      <th>Management</th>\n",
       "      <th>Others</th>\n",
       "      <th>Others</th>\n",
       "      <th>1</th>\n",
       "      <td>73.000000</td>\n",
       "      <td>77.000000</td>\n",
       "      <td>75.000000</td>\n",
       "      <td>34.000000</td>\n",
       "    </tr>\n",
       "    <tr>\n",
       "      <th>Science</th>\n",
       "      <th>CBSE</th>\n",
       "      <th>CBSE</th>\n",
       "      <th>1</th>\n",
       "      <td>69.000000</td>\n",
       "      <td>58.000000</td>\n",
       "      <td>75.000000</td>\n",
       "      <td>61.000000</td>\n",
       "    </tr>\n",
       "    <tr>\n",
       "      <th rowspan=\"18\" valign=\"top\">Science</th>\n",
       "      <th>Arts</th>\n",
       "      <th>Others</th>\n",
       "      <th>Others</th>\n",
       "      <th>1</th>\n",
       "      <td>56.000000</td>\n",
       "      <td>49.000000</td>\n",
       "      <td>69.900000</td>\n",
       "      <td>222.000000</td>\n",
       "    </tr>\n",
       "    <tr>\n",
       "      <th rowspan=\"5\" valign=\"top\">Computer Applications</th>\n",
       "      <th rowspan=\"2\" valign=\"top\">CBSE</th>\n",
       "      <th>CBSE</th>\n",
       "      <th>1</th>\n",
       "      <td>72.000000</td>\n",
       "      <td>70.000000</td>\n",
       "      <td>77.000000</td>\n",
       "      <td>142.000000</td>\n",
       "    </tr>\n",
       "    <tr>\n",
       "      <th>ISC</th>\n",
       "      <th>1</th>\n",
       "      <td>68.000000</td>\n",
       "      <td>68.000000</td>\n",
       "      <td>64.500000</td>\n",
       "      <td>193.000000</td>\n",
       "    </tr>\n",
       "    <tr>\n",
       "      <th rowspan=\"3\" valign=\"top\">Others</th>\n",
       "      <th>CBSE</th>\n",
       "      <th>1</th>\n",
       "      <td>82.000000</td>\n",
       "      <td>55.500000</td>\n",
       "      <td>72.400000</td>\n",
       "      <td>261.000000</td>\n",
       "    </tr>\n",
       "    <tr>\n",
       "      <th rowspan=\"2\" valign=\"top\">Others</th>\n",
       "      <th>0</th>\n",
       "      <td>63.000000</td>\n",
       "      <td>49.000000</td>\n",
       "      <td>61.000000</td>\n",
       "      <td>144.000000</td>\n",
       "    </tr>\n",
       "    <tr>\n",
       "      <th>1</th>\n",
       "      <td>65.000000</td>\n",
       "      <td>72.000000</td>\n",
       "      <td>81.000000</td>\n",
       "      <td>158.000000</td>\n",
       "    </tr>\n",
       "    <tr>\n",
       "      <th rowspan=\"4\" valign=\"top\">Engineering</th>\n",
       "      <th>CBSE</th>\n",
       "      <th>CBSE</th>\n",
       "      <th>1</th>\n",
       "      <td>59.600000</td>\n",
       "      <td>68.000000</td>\n",
       "      <td>76.000000</td>\n",
       "      <td>70.000000</td>\n",
       "    </tr>\n",
       "    <tr>\n",
       "      <th>ICSE</th>\n",
       "      <th>Others</th>\n",
       "      <th>1</th>\n",
       "      <td>65.600000</td>\n",
       "      <td>62.000000</td>\n",
       "      <td>59.000000</td>\n",
       "      <td>205.000000</td>\n",
       "    </tr>\n",
       "    <tr>\n",
       "      <th rowspan=\"2\" valign=\"top\">Others</th>\n",
       "      <th rowspan=\"2\" valign=\"top\">Others</th>\n",
       "      <th>0</th>\n",
       "      <td>55.500000</td>\n",
       "      <td>61.500000</td>\n",
       "      <td>72.160000</td>\n",
       "      <td>228.500000</td>\n",
       "    </tr>\n",
       "    <tr>\n",
       "      <th>1</th>\n",
       "      <td>69.182500</td>\n",
       "      <td>61.700000</td>\n",
       "      <td>71.950000</td>\n",
       "      <td>152.750000</td>\n",
       "    </tr>\n",
       "    <tr>\n",
       "      <th rowspan=\"5\" valign=\"top\">Management</th>\n",
       "      <th rowspan=\"2\" valign=\"top\">CBSE</th>\n",
       "      <th>CBSE</th>\n",
       "      <th>1</th>\n",
       "      <td>66.133333</td>\n",
       "      <td>66.400000</td>\n",
       "      <td>66.810000</td>\n",
       "      <td>139.333333</td>\n",
       "    </tr>\n",
       "    <tr>\n",
       "      <th>Others</th>\n",
       "      <th>1</th>\n",
       "      <td>67.666667</td>\n",
       "      <td>50.666667</td>\n",
       "      <td>59.000000</td>\n",
       "      <td>180.000000</td>\n",
       "    </tr>\n",
       "    <tr>\n",
       "      <th>ICSE</th>\n",
       "      <th>Others</th>\n",
       "      <th>1</th>\n",
       "      <td>57.400000</td>\n",
       "      <td>54.900000</td>\n",
       "      <td>71.500000</td>\n",
       "      <td>182.500000</td>\n",
       "    </tr>\n",
       "    <tr>\n",
       "      <th rowspan=\"2\" valign=\"top\">Others</th>\n",
       "      <th rowspan=\"2\" valign=\"top\">Others</th>\n",
       "      <th>0</th>\n",
       "      <td>71.600000</td>\n",
       "      <td>79.980000</td>\n",
       "      <td>78.890000</td>\n",
       "      <td>79.000000</td>\n",
       "    </tr>\n",
       "    <tr>\n",
       "      <th>1</th>\n",
       "      <td>63.940000</td>\n",
       "      <td>57.200000</td>\n",
       "      <td>70.560000</td>\n",
       "      <td>168.800000</td>\n",
       "    </tr>\n",
       "    <tr>\n",
       "      <th>Others</th>\n",
       "      <th>Others</th>\n",
       "      <th>Others</th>\n",
       "      <th>1</th>\n",
       "      <td>65.000000</td>\n",
       "      <td>54.000000</td>\n",
       "      <td>70.000000</td>\n",
       "      <td>7.000000</td>\n",
       "    </tr>\n",
       "    <tr>\n",
       "      <th rowspan=\"2\" valign=\"top\">Science</th>\n",
       "      <th>CBSE</th>\n",
       "      <th>CBSE</th>\n",
       "      <th>1</th>\n",
       "      <td>78.000000</td>\n",
       "      <td>72.000000</td>\n",
       "      <td>84.000000</td>\n",
       "      <td>78.000000</td>\n",
       "    </tr>\n",
       "    <tr>\n",
       "      <th>Others</th>\n",
       "      <th>Others</th>\n",
       "      <th>1</th>\n",
       "      <td>62.860000</td>\n",
       "      <td>60.300000</td>\n",
       "      <td>73.800000</td>\n",
       "      <td>141.000000</td>\n",
       "    </tr>\n",
       "    <tr>\n",
       "      <th rowspan=\"70\" valign=\"top\">1</th>\n",
       "      <th rowspan=\"6\" valign=\"top\">Arts</th>\n",
       "      <th>Arts</th>\n",
       "      <th>Others</th>\n",
       "      <th>Others</th>\n",
       "      <th>1</th>\n",
       "      <td>54.500000</td>\n",
       "      <td>59.000000</td>\n",
       "      <td>47.500000</td>\n",
       "      <td>110.000000</td>\n",
       "    </tr>\n",
       "    <tr>\n",
       "      <th>Computer Applications</th>\n",
       "      <th>Others</th>\n",
       "      <th>Others</th>\n",
       "      <th>1</th>\n",
       "      <td>59.000000</td>\n",
       "      <td>74.670000</td>\n",
       "      <td>55.000000</td>\n",
       "      <td>129.000000</td>\n",
       "    </tr>\n",
       "    <tr>\n",
       "      <th rowspan=\"4\" valign=\"top\">Management</th>\n",
       "      <th>CBSE</th>\n",
       "      <th>CBSE</th>\n",
       "      <th>1</th>\n",
       "      <td>57.500000</td>\n",
       "      <td>63.000000</td>\n",
       "      <td>53.500000</td>\n",
       "      <td>129.000000</td>\n",
       "    </tr>\n",
       "    <tr>\n",
       "      <th>ICSE</th>\n",
       "      <th>ISC</th>\n",
       "      <th>0</th>\n",
       "      <td>57.000000</td>\n",
       "      <td>54.000000</td>\n",
       "      <td>55.840000</td>\n",
       "      <td>285.000000</td>\n",
       "    </tr>\n",
       "    <tr>\n",
       "      <th rowspan=\"2\" valign=\"top\">Others</th>\n",
       "      <th rowspan=\"2\" valign=\"top\">Others</th>\n",
       "      <th>0</th>\n",
       "      <td>65.000000</td>\n",
       "      <td>53.000000</td>\n",
       "      <td>55.000000</td>\n",
       "      <td>248.000000</td>\n",
       "    </tr>\n",
       "    <tr>\n",
       "      <th>1</th>\n",
       "      <td>66.000000</td>\n",
       "      <td>62.000000</td>\n",
       "      <td>52.000000</td>\n",
       "      <td>44.000000</td>\n",
       "    </tr>\n",
       "    <tr>\n",
       "      <th rowspan=\"26\" valign=\"top\">Commerce</th>\n",
       "      <th rowspan=\"10\" valign=\"top\">Commerce</th>\n",
       "      <th rowspan=\"3\" valign=\"top\">CBSE</th>\n",
       "      <th rowspan=\"2\" valign=\"top\">CBSE</th>\n",
       "      <th>0</th>\n",
       "      <td>56.550000</td>\n",
       "      <td>68.350000</td>\n",
       "      <td>64.000000</td>\n",
       "      <td>191.250000</td>\n",
       "    </tr>\n",
       "    <tr>\n",
       "      <th>1</th>\n",
       "      <td>61.650833</td>\n",
       "      <td>62.827500</td>\n",
       "      <td>64.483333</td>\n",
       "      <td>127.250000</td>\n",
       "    </tr>\n",
       "    <tr>\n",
       "      <th>Others</th>\n",
       "      <th>1</th>\n",
       "      <td>71.992500</td>\n",
       "      <td>80.107500</td>\n",
       "      <td>64.200000</td>\n",
       "      <td>218.500000</td>\n",
       "    </tr>\n",
       "    <tr>\n",
       "      <th rowspan=\"4\" valign=\"top\">ICSE</th>\n",
       "      <th>CBSE</th>\n",
       "      <th>1</th>\n",
       "      <td>50.000000</td>\n",
       "      <td>64.000000</td>\n",
       "      <td>55.000000</td>\n",
       "      <td>6.000000</td>\n",
       "    </tr>\n",
       "    <tr>\n",
       "      <th rowspan=\"2\" valign=\"top\">ISC</th>\n",
       "      <th>0</th>\n",
       "      <td>63.000000</td>\n",
       "      <td>78.000000</td>\n",
       "      <td>58.000000</td>\n",
       "      <td>98.000000</td>\n",
       "    </tr>\n",
       "    <tr>\n",
       "      <th>1</th>\n",
       "      <td>64.728571</td>\n",
       "      <td>65.700000</td>\n",
       "      <td>61.828571</td>\n",
       "      <td>164.571429</td>\n",
       "    </tr>\n",
       "    <tr>\n",
       "      <th>Others</th>\n",
       "      <th>1</th>\n",
       "      <td>60.770000</td>\n",
       "      <td>72.200000</td>\n",
       "      <td>63.672000</td>\n",
       "      <td>202.800000</td>\n",
       "    </tr>\n",
       "    <tr>\n",
       "      <th rowspan=\"3\" valign=\"top\">Others</th>\n",
       "      <th>CBSE</th>\n",
       "      <th>1</th>\n",
       "      <td>59.500000</td>\n",
       "      <td>65.000000</td>\n",
       "      <td>65.500000</td>\n",
       "      <td>129.500000</td>\n",
       "    </tr>\n",
       "    <tr>\n",
       "      <th rowspan=\"2\" valign=\"top\">Others</th>\n",
       "      <th>0</th>\n",
       "      <td>54.317500</td>\n",
       "      <td>67.032500</td>\n",
       "      <td>51.035000</td>\n",
       "      <td>170.500000</td>\n",
       "    </tr>\n",
       "    <tr>\n",
       "      <th>1</th>\n",
       "      <td>57.011429</td>\n",
       "      <td>62.974762</td>\n",
       "      <td>61.277619</td>\n",
       "      <td>151.285714</td>\n",
       "    </tr>\n",
       "    <tr>\n",
       "      <th>Computer Applications</th>\n",
       "      <th>ICSE</th>\n",
       "      <th>Others</th>\n",
       "      <th>0</th>\n",
       "      <td>67.000000</td>\n",
       "      <td>90.000000</td>\n",
       "      <td>59.000000</td>\n",
       "      <td>175.000000</td>\n",
       "    </tr>\n",
       "    <tr>\n",
       "      <th>Engineering</th>\n",
       "      <th>Others</th>\n",
       "      <th>Others</th>\n",
       "      <th>1</th>\n",
       "      <td>66.630000</td>\n",
       "      <td>78.000000</td>\n",
       "      <td>72.000000</td>\n",
       "      <td>3.000000</td>\n",
       "    </tr>\n",
       "    <tr>\n",
       "      <th rowspan=\"12\" valign=\"top\">Management</th>\n",
       "      <th rowspan=\"5\" valign=\"top\">CBSE</th>\n",
       "      <th rowspan=\"2\" valign=\"top\">CBSE</th>\n",
       "      <th>0</th>\n",
       "      <td>59.000000</td>\n",
       "      <td>47.000000</td>\n",
       "      <td>54.000000</td>\n",
       "      <td>68.000000</td>\n",
       "    </tr>\n",
       "    <tr>\n",
       "      <th>1</th>\n",
       "      <td>62.815385</td>\n",
       "      <td>67.770769</td>\n",
       "      <td>61.215385</td>\n",
       "      <td>119.000000</td>\n",
       "    </tr>\n",
       "    <tr>\n",
       "      <th>ISC</th>\n",
       "      <th>1</th>\n",
       "      <td>59.700000</td>\n",
       "      <td>57.500000</td>\n",
       "      <td>53.300000</td>\n",
       "      <td>190.000000</td>\n",
       "    </tr>\n",
       "    <tr>\n",
       "      <th rowspan=\"2\" valign=\"top\">Others</th>\n",
       "      <th>0</th>\n",
       "      <td>64.000000</td>\n",
       "      <td>73.000000</td>\n",
       "      <td>70.000000</td>\n",
       "      <td>220.000000</td>\n",
       "    </tr>\n",
       "    <tr>\n",
       "      <th>1</th>\n",
       "      <td>75.000000</td>\n",
       "      <td>59.000000</td>\n",
       "      <td>68.000000</td>\n",
       "      <td>225.000000</td>\n",
       "    </tr>\n",
       "    <tr>\n",
       "      <th rowspan=\"4\" valign=\"top\">ICSE</th>\n",
       "      <th>CBSE</th>\n",
       "      <th>1</th>\n",
       "      <td>54.000000</td>\n",
       "      <td>53.000000</td>\n",
       "      <td>50.000000</td>\n",
       "      <td>25.000000</td>\n",
       "    </tr>\n",
       "    <tr>\n",
       "      <th rowspan=\"2\" valign=\"top\">ISC</th>\n",
       "      <th>0</th>\n",
       "      <td>54.520000</td>\n",
       "      <td>57.400000</td>\n",
       "      <td>54.160000</td>\n",
       "      <td>162.000000</td>\n",
       "    </tr>\n",
       "    <tr>\n",
       "      <th>1</th>\n",
       "      <td>60.233333</td>\n",
       "      <td>63.916667</td>\n",
       "      <td>60.750000</td>\n",
       "      <td>110.333333</td>\n",
       "    </tr>\n",
       "    <tr>\n",
       "      <th>Others</th>\n",
       "      <th>1</th>\n",
       "      <td>62.000000</td>\n",
       "      <td>52.000000</td>\n",
       "      <td>57.000000</td>\n",
       "      <td>270.000000</td>\n",
       "    </tr>\n",
       "    <tr>\n",
       "      <th rowspan=\"3\" valign=\"top\">Others</th>\n",
       "      <th>ISC</th>\n",
       "      <th>1</th>\n",
       "      <td>63.000000</td>\n",
       "      <td>64.000000</td>\n",
       "      <td>59.000000</td>\n",
       "      <td>165.000000</td>\n",
       "    </tr>\n",
       "    <tr>\n",
       "      <th rowspan=\"2\" valign=\"top\">Others</th>\n",
       "      <th>0</th>\n",
       "      <td>57.795000</td>\n",
       "      <td>59.100000</td>\n",
       "      <td>62.655000</td>\n",
       "      <td>80.250000</td>\n",
       "    </tr>\n",
       "    <tr>\n",
       "      <th>1</th>\n",
       "      <td>62.781818</td>\n",
       "      <td>63.921364</td>\n",
       "      <td>62.521818</td>\n",
       "      <td>151.909091</td>\n",
       "    </tr>\n",
       "    <tr>\n",
       "      <th>Missing</th>\n",
       "      <th>Others</th>\n",
       "      <th>Others</th>\n",
       "      <th>1</th>\n",
       "      <td>60.000000</td>\n",
       "      <td>60.000000</td>\n",
       "      <td>54.000000</td>\n",
       "      <td>45.000000</td>\n",
       "    </tr>\n",
       "    <tr>\n",
       "      <th>Science</th>\n",
       "      <th>Others</th>\n",
       "      <th>Others</th>\n",
       "      <th>1</th>\n",
       "      <td>52.000000</td>\n",
       "      <td>88.000000</td>\n",
       "      <td>62.000000</td>\n",
       "      <td>1.000000</td>\n",
       "    </tr>\n",
       "    <tr>\n",
       "      <th rowspan=\"2\" valign=\"top\">Missing</th>\n",
       "      <th>Computer Applications</th>\n",
       "      <th>Others</th>\n",
       "      <th>Others</th>\n",
       "      <th>1</th>\n",
       "      <td>73.250000</td>\n",
       "      <td>52.800000</td>\n",
       "      <td>60.000000</td>\n",
       "      <td>13.000000</td>\n",
       "    </tr>\n",
       "    <tr>\n",
       "      <th>Science</th>\n",
       "      <th>Others</th>\n",
       "      <th>Others</th>\n",
       "      <th>1</th>\n",
       "      <td>70.000000</td>\n",
       "      <td>65.000000</td>\n",
       "      <td>77.000000</td>\n",
       "      <td>90.000000</td>\n",
       "    </tr>\n",
       "    <tr>\n",
       "      <th rowspan=\"36\" valign=\"top\">Science</th>\n",
       "      <th rowspan=\"2\" valign=\"top\">Arts</th>\n",
       "      <th>ICSE</th>\n",
       "      <th>CBSE</th>\n",
       "      <th>1</th>\n",
       "      <td>60.330000</td>\n",
       "      <td>66.000000</td>\n",
       "      <td>62.000000</td>\n",
       "      <td>210.000000</td>\n",
       "    </tr>\n",
       "    <tr>\n",
       "      <th>Others</th>\n",
       "      <th>Others</th>\n",
       "      <th>1</th>\n",
       "      <td>54.000000</td>\n",
       "      <td>54.000000</td>\n",
       "      <td>67.000000</td>\n",
       "      <td>66.000000</td>\n",
       "    </tr>\n",
       "    <tr>\n",
       "      <th rowspan=\"2\" valign=\"top\">Commerce</th>\n",
       "      <th>CBSE</th>\n",
       "      <th>Others</th>\n",
       "      <th>0</th>\n",
       "      <td>50.000000</td>\n",
       "      <td>52.000000</td>\n",
       "      <td>61.000000</td>\n",
       "      <td>272.000000</td>\n",
       "    </tr>\n",
       "    <tr>\n",
       "      <th>Others</th>\n",
       "      <th>Others</th>\n",
       "      <th>1</th>\n",
       "      <td>56.000000</td>\n",
       "      <td>48.000000</td>\n",
       "      <td>73.000000</td>\n",
       "      <td>123.000000</td>\n",
       "    </tr>\n",
       "    <tr>\n",
       "      <th rowspan=\"5\" valign=\"top\">Computer Applications</th>\n",
       "      <th rowspan=\"2\" valign=\"top\">CBSE</th>\n",
       "      <th>CBSE</th>\n",
       "      <th>1</th>\n",
       "      <td>69.000000</td>\n",
       "      <td>60.000000</td>\n",
       "      <td>75.000000</td>\n",
       "      <td>292.000000</td>\n",
       "    </tr>\n",
       "    <tr>\n",
       "      <th>Others</th>\n",
       "      <th>1</th>\n",
       "      <td>68.000000</td>\n",
       "      <td>50.000000</td>\n",
       "      <td>73.000000</td>\n",
       "      <td>221.000000</td>\n",
       "    </tr>\n",
       "    <tr>\n",
       "      <th>ICSE</th>\n",
       "      <th>Others</th>\n",
       "      <th>1</th>\n",
       "      <td>74.740000</td>\n",
       "      <td>63.165000</td>\n",
       "      <td>73.665000</td>\n",
       "      <td>104.000000</td>\n",
       "    </tr>\n",
       "    <tr>\n",
       "      <th rowspan=\"2\" valign=\"top\">Others</th>\n",
       "      <th rowspan=\"2\" valign=\"top\">Others</th>\n",
       "      <th>0</th>\n",
       "      <td>64.086667</td>\n",
       "      <td>59.386667</td>\n",
       "      <td>71.653333</td>\n",
       "      <td>215.666667</td>\n",
       "    </tr>\n",
       "    <tr>\n",
       "      <th>1</th>\n",
       "      <td>63.562500</td>\n",
       "      <td>61.915000</td>\n",
       "      <td>67.600000</td>\n",
       "      <td>229.000000</td>\n",
       "    </tr>\n",
       "    <tr>\n",
       "      <th rowspan=\"8\" valign=\"top\">Engineering</th>\n",
       "      <th rowspan=\"3\" valign=\"top\">CBSE</th>\n",
       "      <th>CBSE</th>\n",
       "      <th>1</th>\n",
       "      <td>58.333333</td>\n",
       "      <td>67.066667</td>\n",
       "      <td>83.133333</td>\n",
       "      <td>251.333333</td>\n",
       "    </tr>\n",
       "    <tr>\n",
       "      <th>ISC</th>\n",
       "      <th>1</th>\n",
       "      <td>54.000000</td>\n",
       "      <td>55.000000</td>\n",
       "      <td>61.000000</td>\n",
       "      <td>5.000000</td>\n",
       "    </tr>\n",
       "    <tr>\n",
       "      <th>Others</th>\n",
       "      <th>1</th>\n",
       "      <td>67.875000</td>\n",
       "      <td>68.500000</td>\n",
       "      <td>58.000000</td>\n",
       "      <td>91.500000</td>\n",
       "    </tr>\n",
       "    <tr>\n",
       "      <th rowspan=\"3\" valign=\"top\">ICSE</th>\n",
       "      <th>CBSE</th>\n",
       "      <th>1</th>\n",
       "      <td>52.000000</td>\n",
       "      <td>50.660000</td>\n",
       "      <td>66.000000</td>\n",
       "      <td>259.000000</td>\n",
       "    </tr>\n",
       "    <tr>\n",
       "      <th>ISC</th>\n",
       "      <th>1</th>\n",
       "      <td>62.000000</td>\n",
       "      <td>68.000000</td>\n",
       "      <td>70.000000</td>\n",
       "      <td>122.000000</td>\n",
       "    </tr>\n",
       "    <tr>\n",
       "      <th>Others</th>\n",
       "      <th>0</th>\n",
       "      <td>60.000000</td>\n",
       "      <td>69.000000</td>\n",
       "      <td>64.000000</td>\n",
       "      <td>184.000000</td>\n",
       "    </tr>\n",
       "    <tr>\n",
       "      <th rowspan=\"2\" valign=\"top\">Others</th>\n",
       "      <th rowspan=\"2\" valign=\"top\">Others</th>\n",
       "      <th>0</th>\n",
       "      <td>73.000000</td>\n",
       "      <td>70.000000</td>\n",
       "      <td>75.900000</td>\n",
       "      <td>287.000000</td>\n",
       "    </tr>\n",
       "    <tr>\n",
       "      <th>1</th>\n",
       "      <td>60.358182</td>\n",
       "      <td>65.448182</td>\n",
       "      <td>73.001818</td>\n",
       "      <td>153.272727</td>\n",
       "    </tr>\n",
       "    <tr>\n",
       "      <th rowspan=\"7\" valign=\"top\">Management</th>\n",
       "      <th rowspan=\"3\" valign=\"top\">CBSE</th>\n",
       "      <th rowspan=\"2\" valign=\"top\">CBSE</th>\n",
       "      <th>0</th>\n",
       "      <td>64.000000</td>\n",
       "      <td>69.000000</td>\n",
       "      <td>74.000000</td>\n",
       "      <td>240.000000</td>\n",
       "    </tr>\n",
       "    <tr>\n",
       "      <th>1</th>\n",
       "      <td>60.792500</td>\n",
       "      <td>57.750000</td>\n",
       "      <td>70.525000</td>\n",
       "      <td>87.000000</td>\n",
       "    </tr>\n",
       "    <tr>\n",
       "      <th>Others</th>\n",
       "      <th>1</th>\n",
       "      <td>60.500000</td>\n",
       "      <td>56.600000</td>\n",
       "      <td>57.566667</td>\n",
       "      <td>146.833333</td>\n",
       "    </tr>\n",
       "    <tr>\n",
       "      <th>ICSE</th>\n",
       "      <th>Others</th>\n",
       "      <th>1</th>\n",
       "      <td>62.000000</td>\n",
       "      <td>58.000000</td>\n",
       "      <td>54.000000</td>\n",
       "      <td>250.000000</td>\n",
       "    </tr>\n",
       "    <tr>\n",
       "      <th rowspan=\"3\" valign=\"top\">Others</th>\n",
       "      <th>ISC</th>\n",
       "      <th>1</th>\n",
       "      <td>66.000000</td>\n",
       "      <td>52.000000</td>\n",
       "      <td>78.000000</td>\n",
       "      <td>37.000000</td>\n",
       "    </tr>\n",
       "    <tr>\n",
       "      <th rowspan=\"2\" valign=\"top\">Others</th>\n",
       "      <th>0</th>\n",
       "      <td>63.000000</td>\n",
       "      <td>43.000000</td>\n",
       "      <td>63.000000</td>\n",
       "      <td>204.000000</td>\n",
       "    </tr>\n",
       "    <tr>\n",
       "      <th>1</th>\n",
       "      <td>61.331429</td>\n",
       "      <td>55.892857</td>\n",
       "      <td>64.684286</td>\n",
       "      <td>153.714286</td>\n",
       "    </tr>\n",
       "    <tr>\n",
       "      <th>Missing</th>\n",
       "      <th>CBSE</th>\n",
       "      <th>Others</th>\n",
       "      <th>1</th>\n",
       "      <td>68.110000</td>\n",
       "      <td>60.580000</td>\n",
       "      <td>44.600000</td>\n",
       "      <td>101.000000</td>\n",
       "    </tr>\n",
       "    <tr>\n",
       "      <th rowspan=\"3\" valign=\"top\">Others</th>\n",
       "      <th>CBSE</th>\n",
       "      <th>CBSE</th>\n",
       "      <th>1</th>\n",
       "      <td>68.000000</td>\n",
       "      <td>55.000000</td>\n",
       "      <td>52.000000</td>\n",
       "      <td>178.000000</td>\n",
       "    </tr>\n",
       "    <tr>\n",
       "      <th>ICSE</th>\n",
       "      <th>CBSE</th>\n",
       "      <th>1</th>\n",
       "      <td>64.000000</td>\n",
       "      <td>54.000000</td>\n",
       "      <td>64.600000</td>\n",
       "      <td>155.000000</td>\n",
       "    </tr>\n",
       "    <tr>\n",
       "      <th>Others</th>\n",
       "      <th>CBSE</th>\n",
       "      <th>0</th>\n",
       "      <td>69.000000</td>\n",
       "      <td>42.000000</td>\n",
       "      <td>52.000000</td>\n",
       "      <td>75.000000</td>\n",
       "    </tr>\n",
       "    <tr>\n",
       "      <th rowspan=\"8\" valign=\"top\">Science</th>\n",
       "      <th rowspan=\"2\" valign=\"top\">CBSE</th>\n",
       "      <th>CBSE</th>\n",
       "      <th>1</th>\n",
       "      <td>69.000000</td>\n",
       "      <td>70.333333</td>\n",
       "      <td>74.000000</td>\n",
       "      <td>134.333333</td>\n",
       "    </tr>\n",
       "    <tr>\n",
       "      <th>Others</th>\n",
       "      <th>1</th>\n",
       "      <td>66.000000</td>\n",
       "      <td>58.000000</td>\n",
       "      <td>65.000000</td>\n",
       "      <td>152.000000</td>\n",
       "    </tr>\n",
       "    <tr>\n",
       "      <th rowspan=\"4\" valign=\"top\">ICSE</th>\n",
       "      <th rowspan=\"2\" valign=\"top\">ISC</th>\n",
       "      <th>0</th>\n",
       "      <td>62.000000</td>\n",
       "      <td>50.000000</td>\n",
       "      <td>61.000000</td>\n",
       "      <td>241.000000</td>\n",
       "    </tr>\n",
       "    <tr>\n",
       "      <th>1</th>\n",
       "      <td>75.720000</td>\n",
       "      <td>68.400000</td>\n",
       "      <td>77.400000</td>\n",
       "      <td>215.000000</td>\n",
       "    </tr>\n",
       "    <tr>\n",
       "      <th rowspan=\"2\" valign=\"top\">Others</th>\n",
       "      <th>0</th>\n",
       "      <td>71.000000</td>\n",
       "      <td>68.000000</td>\n",
       "      <td>55.000000</td>\n",
       "      <td>191.000000</td>\n",
       "    </tr>\n",
       "    <tr>\n",
       "      <th>1</th>\n",
       "      <td>71.430000</td>\n",
       "      <td>52.000000</td>\n",
       "      <td>82.000000</td>\n",
       "      <td>242.000000</td>\n",
       "    </tr>\n",
       "    <tr>\n",
       "      <th rowspan=\"2\" valign=\"top\">Others</th>\n",
       "      <th rowspan=\"2\" valign=\"top\">Others</th>\n",
       "      <th>0</th>\n",
       "      <td>65.000000</td>\n",
       "      <td>59.000000</td>\n",
       "      <td>56.000000</td>\n",
       "      <td>194.000000</td>\n",
       "    </tr>\n",
       "    <tr>\n",
       "      <th>1</th>\n",
       "      <td>62.200000</td>\n",
       "      <td>68.100000</td>\n",
       "      <td>64.260000</td>\n",
       "      <td>162.600000</td>\n",
       "    </tr>\n",
       "  </tbody>\n",
       "</table>\n",
       "</div>"
      ],
      "text/plain": [
       "                                                                       Percent_Degree  \\\n",
       "Gender Stream_HSC Course_Degree         Board_SSC Board_HSC Placement                   \n",
       "0      Arts       Arts                  ICSE      ISC       1               50.000000   \n",
       "                                        Others    Others    0               54.000000   \n",
       "                                                            1               38.000000   \n",
       "                  Management            CBSE      CBSE      1               63.500000   \n",
       "                                        ICSE      ISC       1               65.300000   \n",
       "                                        Others    CBSE      1               67.930000   \n",
       "                                                  Others    1               70.000000   \n",
       "       Commerce   Arts                  CBSE      CBSE      0               42.000000   \n",
       "                  Commerce              CBSE      CBSE      0               55.305000   \n",
       "                                                            1               56.333333   \n",
       "                                                  Others    1               75.000000   \n",
       "                                        ICSE      ISC       1               60.783333   \n",
       "                                                  Others    0               67.800000   \n",
       "                                                            1               74.125000   \n",
       "                                        Others    CBSE      1               50.200000   \n",
       "                                                  Others    0               70.000000   \n",
       "                                                            1               68.800000   \n",
       "                  Computer Applications CBSE      CBSE      1               78.700000   \n",
       "                  Management            CBSE      CBSE      1               69.533333   \n",
       "                                                  Others    0               51.000000   \n",
       "                                        ICSE      ISC       1               74.550000   \n",
       "                                                  Others    0               80.000000   \n",
       "                                                            1               76.000000   \n",
       "                                        Others    Others    0               67.433333   \n",
       "                                                            1               69.533333   \n",
       "                  Missing               Others    ISC       0               72.350000   \n",
       "       Missing    Management            Others    Others    1               73.000000   \n",
       "                  Science               CBSE      CBSE      1               69.000000   \n",
       "       Science    Arts                  Others    Others    1               56.000000   \n",
       "                  Computer Applications CBSE      CBSE      1               72.000000   \n",
       "                                                  ISC       1               68.000000   \n",
       "                                        Others    CBSE      1               82.000000   \n",
       "                                                  Others    0               63.000000   \n",
       "                                                            1               65.000000   \n",
       "                  Engineering           CBSE      CBSE      1               59.600000   \n",
       "                                        ICSE      Others    1               65.600000   \n",
       "                                        Others    Others    0               55.500000   \n",
       "                                                            1               69.182500   \n",
       "                  Management            CBSE      CBSE      1               66.133333   \n",
       "                                                  Others    1               67.666667   \n",
       "                                        ICSE      Others    1               57.400000   \n",
       "                                        Others    Others    0               71.600000   \n",
       "                                                            1               63.940000   \n",
       "                  Others                Others    Others    1               65.000000   \n",
       "                  Science               CBSE      CBSE      1               78.000000   \n",
       "                                        Others    Others    1               62.860000   \n",
       "1      Arts       Arts                  Others    Others    1               54.500000   \n",
       "                  Computer Applications Others    Others    1               59.000000   \n",
       "                  Management            CBSE      CBSE      1               57.500000   \n",
       "                                        ICSE      ISC       0               57.000000   \n",
       "                                        Others    Others    0               65.000000   \n",
       "                                                            1               66.000000   \n",
       "       Commerce   Commerce              CBSE      CBSE      0               56.550000   \n",
       "                                                            1               61.650833   \n",
       "                                                  Others    1               71.992500   \n",
       "                                        ICSE      CBSE      1               50.000000   \n",
       "                                                  ISC       0               63.000000   \n",
       "                                                            1               64.728571   \n",
       "                                                  Others    1               60.770000   \n",
       "                                        Others    CBSE      1               59.500000   \n",
       "                                                  Others    0               54.317500   \n",
       "                                                            1               57.011429   \n",
       "                  Computer Applications ICSE      Others    0               67.000000   \n",
       "                  Engineering           Others    Others    1               66.630000   \n",
       "                  Management            CBSE      CBSE      0               59.000000   \n",
       "                                                            1               62.815385   \n",
       "                                                  ISC       1               59.700000   \n",
       "                                                  Others    0               64.000000   \n",
       "                                                            1               75.000000   \n",
       "                                        ICSE      CBSE      1               54.000000   \n",
       "                                                  ISC       0               54.520000   \n",
       "                                                            1               60.233333   \n",
       "                                                  Others    1               62.000000   \n",
       "                                        Others    ISC       1               63.000000   \n",
       "                                                  Others    0               57.795000   \n",
       "                                                            1               62.781818   \n",
       "                  Missing               Others    Others    1               60.000000   \n",
       "                  Science               Others    Others    1               52.000000   \n",
       "       Missing    Computer Applications Others    Others    1               73.250000   \n",
       "                  Science               Others    Others    1               70.000000   \n",
       "       Science    Arts                  ICSE      CBSE      1               60.330000   \n",
       "                                        Others    Others    1               54.000000   \n",
       "                  Commerce              CBSE      Others    0               50.000000   \n",
       "                                        Others    Others    1               56.000000   \n",
       "                  Computer Applications CBSE      CBSE      1               69.000000   \n",
       "                                                  Others    1               68.000000   \n",
       "                                        ICSE      Others    1               74.740000   \n",
       "                                        Others    Others    0               64.086667   \n",
       "                                                            1               63.562500   \n",
       "                  Engineering           CBSE      CBSE      1               58.333333   \n",
       "                                                  ISC       1               54.000000   \n",
       "                                                  Others    1               67.875000   \n",
       "                                        ICSE      CBSE      1               52.000000   \n",
       "                                                  ISC       1               62.000000   \n",
       "                                                  Others    0               60.000000   \n",
       "                                        Others    Others    0               73.000000   \n",
       "                                                            1               60.358182   \n",
       "                  Management            CBSE      CBSE      0               64.000000   \n",
       "                                                            1               60.792500   \n",
       "                                                  Others    1               60.500000   \n",
       "                                        ICSE      Others    1               62.000000   \n",
       "                                        Others    ISC       1               66.000000   \n",
       "                                                  Others    0               63.000000   \n",
       "                                                            1               61.331429   \n",
       "                  Missing               CBSE      Others    1               68.110000   \n",
       "                  Others                CBSE      CBSE      1               68.000000   \n",
       "                                        ICSE      CBSE      1               64.000000   \n",
       "                                        Others    CBSE      0               69.000000   \n",
       "                  Science               CBSE      CBSE      1               69.000000   \n",
       "                                                  Others    1               66.000000   \n",
       "                                        ICSE      ISC       0               62.000000   \n",
       "                                                            1               75.720000   \n",
       "                                                  Others    0               71.000000   \n",
       "                                                            1               71.430000   \n",
       "                                        Others    Others    0               65.000000   \n",
       "                                                            1               62.200000   \n",
       "\n",
       "                                                                       Percent_HSC  \\\n",
       "Gender Stream_HSC Course_Degree         Board_SSC Board_HSC Placement                \n",
       "0      Arts       Arts                  ICSE      ISC       1            83.000000   \n",
       "                                        Others    Others    0            40.000000   \n",
       "                                                            1            59.000000   \n",
       "                  Management            CBSE      CBSE      1            69.000000   \n",
       "                                        ICSE      ISC       1            61.800000   \n",
       "                                        Others    CBSE      1            65.400000   \n",
       "                                                  Others    1            70.000000   \n",
       "       Commerce   Arts                  CBSE      CBSE      0            69.000000   \n",
       "                  Commerce              CBSE      CBSE      0            58.300000   \n",
       "                                                            1            71.000000   \n",
       "                                                  Others    1            78.000000   \n",
       "                                        ICSE      ISC       1            74.500000   \n",
       "                                                  Others    0            75.000000   \n",
       "                                                            1            75.875000   \n",
       "                                        Others    CBSE      1            59.600000   \n",
       "                                                  Others    0            50.515000   \n",
       "                                                            1            75.366000   \n",
       "                  Computer Applications CBSE      CBSE      1            50.000000   \n",
       "                  Management            CBSE      CBSE      1            67.916667   \n",
       "                                                  Others    0            40.000000   \n",
       "                                        ICSE      ISC       1            78.500000   \n",
       "                                                  Others    0            86.330000   \n",
       "                                                            1            87.000000   \n",
       "                                        Others    Others    0            71.343333   \n",
       "                                                            1            68.165000   \n",
       "                  Missing               Others    ISC       0            87.000000   \n",
       "       Missing    Management            Others    Others    1            77.000000   \n",
       "                  Science               CBSE      CBSE      1            58.000000   \n",
       "       Science    Arts                  Others    Others    1            49.000000   \n",
       "                  Computer Applications CBSE      CBSE      1            70.000000   \n",
       "                                                  ISC       1            68.000000   \n",
       "                                        Others    CBSE      1            55.500000   \n",
       "                                                  Others    0            49.000000   \n",
       "                                                            1            72.000000   \n",
       "                  Engineering           CBSE      CBSE      1            68.000000   \n",
       "                                        ICSE      Others    1            62.000000   \n",
       "                                        Others    Others    0            61.500000   \n",
       "                                                            1            61.700000   \n",
       "                  Management            CBSE      CBSE      1            66.400000   \n",
       "                                                  Others    1            50.666667   \n",
       "                                        ICSE      Others    1            54.900000   \n",
       "                                        Others    Others    0            79.980000   \n",
       "                                                            1            57.200000   \n",
       "                  Others                Others    Others    1            54.000000   \n",
       "                  Science               CBSE      CBSE      1            72.000000   \n",
       "                                        Others    Others    1            60.300000   \n",
       "1      Arts       Arts                  Others    Others    1            59.000000   \n",
       "                  Computer Applications Others    Others    1            74.670000   \n",
       "                  Management            CBSE      CBSE      1            63.000000   \n",
       "                                        ICSE      ISC       0            54.000000   \n",
       "                                        Others    Others    0            53.000000   \n",
       "                                                            1            62.000000   \n",
       "       Commerce   Commerce              CBSE      CBSE      0            68.350000   \n",
       "                                                            1            62.827500   \n",
       "                                                  Others    1            80.107500   \n",
       "                                        ICSE      CBSE      1            64.000000   \n",
       "                                                  ISC       0            78.000000   \n",
       "                                                            1            65.700000   \n",
       "                                                  Others    1            72.200000   \n",
       "                                        Others    CBSE      1            65.000000   \n",
       "                                                  Others    0            67.032500   \n",
       "                                                            1            62.974762   \n",
       "                  Computer Applications ICSE      Others    0            90.000000   \n",
       "                  Engineering           Others    Others    1            78.000000   \n",
       "                  Management            CBSE      CBSE      0            47.000000   \n",
       "                                                            1            67.770769   \n",
       "                                                  ISC       1            57.500000   \n",
       "                                                  Others    0            73.000000   \n",
       "                                                            1            59.000000   \n",
       "                                        ICSE      CBSE      1            53.000000   \n",
       "                                                  ISC       0            57.400000   \n",
       "                                                            1            63.916667   \n",
       "                                                  Others    1            52.000000   \n",
       "                                        Others    ISC       1            64.000000   \n",
       "                                                  Others    0            59.100000   \n",
       "                                                            1            63.921364   \n",
       "                  Missing               Others    Others    1            60.000000   \n",
       "                  Science               Others    Others    1            88.000000   \n",
       "       Missing    Computer Applications Others    Others    1            52.800000   \n",
       "                  Science               Others    Others    1            65.000000   \n",
       "       Science    Arts                  ICSE      CBSE      1            66.000000   \n",
       "                                        Others    Others    1            54.000000   \n",
       "                  Commerce              CBSE      Others    0            52.000000   \n",
       "                                        Others    Others    1            48.000000   \n",
       "                  Computer Applications CBSE      CBSE      1            60.000000   \n",
       "                                                  Others    1            50.000000   \n",
       "                                        ICSE      Others    1            63.165000   \n",
       "                                        Others    Others    0            59.386667   \n",
       "                                                            1            61.915000   \n",
       "                  Engineering           CBSE      CBSE      1            67.066667   \n",
       "                                                  ISC       1            55.000000   \n",
       "                                                  Others    1            68.500000   \n",
       "                                        ICSE      CBSE      1            50.660000   \n",
       "                                                  ISC       1            68.000000   \n",
       "                                                  Others    0            69.000000   \n",
       "                                        Others    Others    0            70.000000   \n",
       "                                                            1            65.448182   \n",
       "                  Management            CBSE      CBSE      0            69.000000   \n",
       "                                                            1            57.750000   \n",
       "                                                  Others    1            56.600000   \n",
       "                                        ICSE      Others    1            58.000000   \n",
       "                                        Others    ISC       1            52.000000   \n",
       "                                                  Others    0            43.000000   \n",
       "                                                            1            55.892857   \n",
       "                  Missing               CBSE      Others    1            60.580000   \n",
       "                  Others                CBSE      CBSE      1            55.000000   \n",
       "                                        ICSE      CBSE      1            54.000000   \n",
       "                                        Others    CBSE      0            42.000000   \n",
       "                  Science               CBSE      CBSE      1            70.333333   \n",
       "                                                  Others    1            58.000000   \n",
       "                                        ICSE      ISC       0            50.000000   \n",
       "                                                            1            68.400000   \n",
       "                                                  Others    0            68.000000   \n",
       "                                                            1            52.000000   \n",
       "                                        Others    Others    0            59.000000   \n",
       "                                                            1            68.100000   \n",
       "\n",
       "                                                                       Percent_SSC  \\\n",
       "Gender Stream_HSC Course_Degree         Board_SSC Board_HSC Placement                \n",
       "0      Arts       Arts                  ICSE      ISC       1            74.000000   \n",
       "                                        Others    Others    0            53.000000   \n",
       "                                                            1            52.000000   \n",
       "                  Management            CBSE      CBSE      1            54.500000   \n",
       "                                        ICSE      ISC       1            61.500000   \n",
       "                                        Others    CBSE      1            61.500000   \n",
       "                                                  Others    1            53.440000   \n",
       "       Commerce   Arts                  CBSE      CBSE      0            50.000000   \n",
       "                  Commerce              CBSE      CBSE      0            51.200000   \n",
       "                                                            1            65.333333   \n",
       "                                                  Others    1            65.000000   \n",
       "                                        ICSE      ISC       1            64.053333   \n",
       "                                                  Others    0            67.670000   \n",
       "                                                            1            72.985000   \n",
       "                                        Others    CBSE      1            57.580000   \n",
       "                                                  Others    0            46.445000   \n",
       "                                                            1            76.128000   \n",
       "                  Computer Applications CBSE      CBSE      1            77.700000   \n",
       "                  Management            CBSE      CBSE      1            66.000000   \n",
       "                                                  Others    0            40.000000   \n",
       "                                        ICSE      ISC       1            66.500000   \n",
       "                                                  Others    0            68.300000   \n",
       "                                                            1            87.000000   \n",
       "                                        Others    Others    0            66.573333   \n",
       "                                                            1            73.966667   \n",
       "                  Missing               Others    ISC       0            79.600000   \n",
       "       Missing    Management            Others    Others    1            75.000000   \n",
       "                  Science               CBSE      CBSE      1            75.000000   \n",
       "       Science    Arts                  Others    Others    1            69.900000   \n",
       "                  Computer Applications CBSE      CBSE      1            77.000000   \n",
       "                                                  ISC       1            64.500000   \n",
       "                                        Others    CBSE      1            72.400000   \n",
       "                                                  Others    0            61.000000   \n",
       "                                                            1            81.000000   \n",
       "                  Engineering           CBSE      CBSE      1            76.000000   \n",
       "                                        ICSE      Others    1            59.000000   \n",
       "                                        Others    Others    0            72.160000   \n",
       "                                                            1            71.950000   \n",
       "                  Management            CBSE      CBSE      1            66.810000   \n",
       "                                                  Others    1            59.000000   \n",
       "                                        ICSE      Others    1            71.500000   \n",
       "                                        Others    Others    0            78.890000   \n",
       "                                                            1            70.560000   \n",
       "                  Others                Others    Others    1            70.000000   \n",
       "                  Science               CBSE      CBSE      1            84.000000   \n",
       "                                        Others    Others    1            73.800000   \n",
       "1      Arts       Arts                  Others    Others    1            47.500000   \n",
       "                  Computer Applications Others    Others    1            55.000000   \n",
       "                  Management            CBSE      CBSE      1            53.500000   \n",
       "                                        ICSE      ISC       0            55.840000   \n",
       "                                        Others    Others    0            55.000000   \n",
       "                                                            1            52.000000   \n",
       "       Commerce   Commerce              CBSE      CBSE      0            64.000000   \n",
       "                                                            1            64.483333   \n",
       "                                                  Others    1            64.200000   \n",
       "                                        ICSE      CBSE      1            55.000000   \n",
       "                                                  ISC       0            58.000000   \n",
       "                                                            1            61.828571   \n",
       "                                                  Others    1            63.672000   \n",
       "                                        Others    CBSE      1            65.500000   \n",
       "                                                  Others    0            51.035000   \n",
       "                                                            1            61.277619   \n",
       "                  Computer Applications ICSE      Others    0            59.000000   \n",
       "                  Engineering           Others    Others    1            72.000000   \n",
       "                  Management            CBSE      CBSE      0            54.000000   \n",
       "                                                            1            61.215385   \n",
       "                                                  ISC       1            53.300000   \n",
       "                                                  Others    0            70.000000   \n",
       "                                                            1            68.000000   \n",
       "                                        ICSE      CBSE      1            50.000000   \n",
       "                                                  ISC       0            54.160000   \n",
       "                                                            1            60.750000   \n",
       "                                                  Others    1            57.000000   \n",
       "                                        Others    ISC       1            59.000000   \n",
       "                                                  Others    0            62.655000   \n",
       "                                                            1            62.521818   \n",
       "                  Missing               Others    Others    1            54.000000   \n",
       "                  Science               Others    Others    1            62.000000   \n",
       "       Missing    Computer Applications Others    Others    1            60.000000   \n",
       "                  Science               Others    Others    1            77.000000   \n",
       "       Science    Arts                  ICSE      CBSE      1            62.000000   \n",
       "                                        Others    Others    1            67.000000   \n",
       "                  Commerce              CBSE      Others    0            61.000000   \n",
       "                                        Others    Others    1            73.000000   \n",
       "                  Computer Applications CBSE      CBSE      1            75.000000   \n",
       "                                                  Others    1            73.000000   \n",
       "                                        ICSE      Others    1            73.665000   \n",
       "                                        Others    Others    0            71.653333   \n",
       "                                                            1            67.600000   \n",
       "                  Engineering           CBSE      CBSE      1            83.133333   \n",
       "                                                  ISC       1            61.000000   \n",
       "                                                  Others    1            58.000000   \n",
       "                                        ICSE      CBSE      1            66.000000   \n",
       "                                                  ISC       1            70.000000   \n",
       "                                                  Others    0            64.000000   \n",
       "                                        Others    Others    0            75.900000   \n",
       "                                                            1            73.001818   \n",
       "                  Management            CBSE      CBSE      0            74.000000   \n",
       "                                                            1            70.525000   \n",
       "                                                  Others    1            57.566667   \n",
       "                                        ICSE      Others    1            54.000000   \n",
       "                                        Others    ISC       1            78.000000   \n",
       "                                                  Others    0            63.000000   \n",
       "                                                            1            64.684286   \n",
       "                  Missing               CBSE      Others    1            44.600000   \n",
       "                  Others                CBSE      CBSE      1            52.000000   \n",
       "                                        ICSE      CBSE      1            64.600000   \n",
       "                                        Others    CBSE      0            52.000000   \n",
       "                  Science               CBSE      CBSE      1            74.000000   \n",
       "                                                  Others    1            65.000000   \n",
       "                                        ICSE      ISC       0            61.000000   \n",
       "                                                            1            77.400000   \n",
       "                                                  Others    0            55.000000   \n",
       "                                                            1            82.000000   \n",
       "                                        Others    Others    0            56.000000   \n",
       "                                                            1            64.260000   \n",
       "\n",
       "                                                                       Student No  \n",
       "Gender Stream_HSC Course_Degree         Board_SSC Board_HSC Placement              \n",
       "0      Arts       Arts                  ICSE      ISC       1          253.000000  \n",
       "                                        Others    Others    0           82.000000  \n",
       "                                                            1          145.000000  \n",
       "                  Management            CBSE      CBSE      1          120.000000  \n",
       "                                        ICSE      ISC       1          208.000000  \n",
       "                                        Others    CBSE      1          138.000000  \n",
       "                                                  Others    1          207.000000  \n",
       "       Commerce   Arts                  CBSE      CBSE      0          100.000000  \n",
       "                  Commerce              CBSE      CBSE      0          169.250000  \n",
       "                                                            1           98.000000  \n",
       "                                                  Others    1           87.000000  \n",
       "                                        ICSE      ISC       1          179.333333  \n",
       "                                                  Others    0          298.000000  \n",
       "                                                            1          152.500000  \n",
       "                                        Others    CBSE      1           52.000000  \n",
       "                                                  Others    0           52.500000  \n",
       "                                                            1          160.600000  \n",
       "                  Computer Applications CBSE      CBSE      1          121.000000  \n",
       "                  Management            CBSE      CBSE      1          142.333333  \n",
       "                                                  Others    0           42.000000  \n",
       "                                        ICSE      ISC       1          124.000000  \n",
       "                                                  Others    0          284.000000  \n",
       "                                                            1          224.000000  \n",
       "                                        Others    Others    0          198.333333  \n",
       "                                                            1          137.000000  \n",
       "                  Missing               Others    ISC       0           11.000000  \n",
       "       Missing    Management            Others    Others    1           34.000000  \n",
       "                  Science               CBSE      CBSE      1           61.000000  \n",
       "       Science    Arts                  Others    Others    1          222.000000  \n",
       "                  Computer Applications CBSE      CBSE      1          142.000000  \n",
       "                                                  ISC       1          193.000000  \n",
       "                                        Others    CBSE      1          261.000000  \n",
       "                                                  Others    0          144.000000  \n",
       "                                                            1          158.000000  \n",
       "                  Engineering           CBSE      CBSE      1           70.000000  \n",
       "                                        ICSE      Others    1          205.000000  \n",
       "                                        Others    Others    0          228.500000  \n",
       "                                                            1          152.750000  \n",
       "                  Management            CBSE      CBSE      1          139.333333  \n",
       "                                                  Others    1          180.000000  \n",
       "                                        ICSE      Others    1          182.500000  \n",
       "                                        Others    Others    0           79.000000  \n",
       "                                                            1          168.800000  \n",
       "                  Others                Others    Others    1            7.000000  \n",
       "                  Science               CBSE      CBSE      1           78.000000  \n",
       "                                        Others    Others    1          141.000000  \n",
       "1      Arts       Arts                  Others    Others    1          110.000000  \n",
       "                  Computer Applications Others    Others    1          129.000000  \n",
       "                  Management            CBSE      CBSE      1          129.000000  \n",
       "                                        ICSE      ISC       0          285.000000  \n",
       "                                        Others    Others    0          248.000000  \n",
       "                                                            1           44.000000  \n",
       "       Commerce   Commerce              CBSE      CBSE      0          191.250000  \n",
       "                                                            1          127.250000  \n",
       "                                                  Others    1          218.500000  \n",
       "                                        ICSE      CBSE      1            6.000000  \n",
       "                                                  ISC       0           98.000000  \n",
       "                                                            1          164.571429  \n",
       "                                                  Others    1          202.800000  \n",
       "                                        Others    CBSE      1          129.500000  \n",
       "                                                  Others    0          170.500000  \n",
       "                                                            1          151.285714  \n",
       "                  Computer Applications ICSE      Others    0          175.000000  \n",
       "                  Engineering           Others    Others    1            3.000000  \n",
       "                  Management            CBSE      CBSE      0           68.000000  \n",
       "                                                            1          119.000000  \n",
       "                                                  ISC       1          190.000000  \n",
       "                                                  Others    0          220.000000  \n",
       "                                                            1          225.000000  \n",
       "                                        ICSE      CBSE      1           25.000000  \n",
       "                                                  ISC       0          162.000000  \n",
       "                                                            1          110.333333  \n",
       "                                                  Others    1          270.000000  \n",
       "                                        Others    ISC       1          165.000000  \n",
       "                                                  Others    0           80.250000  \n",
       "                                                            1          151.909091  \n",
       "                  Missing               Others    Others    1           45.000000  \n",
       "                  Science               Others    Others    1            1.000000  \n",
       "       Missing    Computer Applications Others    Others    1           13.000000  \n",
       "                  Science               Others    Others    1           90.000000  \n",
       "       Science    Arts                  ICSE      CBSE      1          210.000000  \n",
       "                                        Others    Others    1           66.000000  \n",
       "                  Commerce              CBSE      Others    0          272.000000  \n",
       "                                        Others    Others    1          123.000000  \n",
       "                  Computer Applications CBSE      CBSE      1          292.000000  \n",
       "                                                  Others    1          221.000000  \n",
       "                                        ICSE      Others    1          104.000000  \n",
       "                                        Others    Others    0          215.666667  \n",
       "                                                            1          229.000000  \n",
       "                  Engineering           CBSE      CBSE      1          251.333333  \n",
       "                                                  ISC       1            5.000000  \n",
       "                                                  Others    1           91.500000  \n",
       "                                        ICSE      CBSE      1          259.000000  \n",
       "                                                  ISC       1          122.000000  \n",
       "                                                  Others    0          184.000000  \n",
       "                                        Others    Others    0          287.000000  \n",
       "                                                            1          153.272727  \n",
       "                  Management            CBSE      CBSE      0          240.000000  \n",
       "                                                            1           87.000000  \n",
       "                                                  Others    1          146.833333  \n",
       "                                        ICSE      Others    1          250.000000  \n",
       "                                        Others    ISC       1           37.000000  \n",
       "                                                  Others    0          204.000000  \n",
       "                                                            1          153.714286  \n",
       "                  Missing               CBSE      Others    1          101.000000  \n",
       "                  Others                CBSE      CBSE      1          178.000000  \n",
       "                                        ICSE      CBSE      1          155.000000  \n",
       "                                        Others    CBSE      0           75.000000  \n",
       "                  Science               CBSE      CBSE      1          134.333333  \n",
       "                                                  Others    1          152.000000  \n",
       "                                        ICSE      ISC       0          241.000000  \n",
       "                                                            1          215.000000  \n",
       "                                                  Others    0          191.000000  \n",
       "                                                            1          242.000000  \n",
       "                                        Others    Others    0          194.000000  \n",
       "                                                            1          162.600000  "
      ]
     },
     "execution_count": 282,
     "metadata": {},
     "output_type": "execute_result"
    }
   ],
   "source": [
    "pd.pivot_table(train,index=[\"Gender\",\"Stream_HSC\",\"Course_Degree\",\"Board_SSC\",\"Board_HSC\",\"Placement\"])"
   ]
  },
  {
   "cell_type": "code",
   "execution_count": 283,
   "metadata": {
    "collapsed": false
   },
   "outputs": [
    {
     "data": {
      "text/plain": [
       "Commerce    165\n",
       "Science     116\n",
       "Arts         15\n",
       "Missing       4\n",
       "Name: Stream_HSC, dtype: int64"
      ]
     },
     "execution_count": 283,
     "metadata": {},
     "output_type": "execute_result"
    }
   ],
   "source": [
    "train.Stream_HSC.value_counts()"
   ]
  },
  {
   "cell_type": "code",
   "execution_count": 284,
   "metadata": {
    "collapsed": false
   },
   "outputs": [
    {
     "data": {
      "text/plain": [
       "Management               126\n",
       "Commerce                  87\n",
       "Engineering               30\n",
       "Science                   22\n",
       "Computer Applications     20\n",
       "Arts                       8\n",
       "Others                     4\n",
       "Missing                    3\n",
       "Name: Course_Degree, dtype: int64"
      ]
     },
     "execution_count": 284,
     "metadata": {},
     "output_type": "execute_result"
    }
   ],
   "source": [
    "train.Course_Degree.value_counts()"
   ]
  },
  {
   "cell_type": "code",
   "execution_count": 285,
   "metadata": {
    "collapsed": false
   },
   "outputs": [
    {
     "data": {
      "text/plain": [
       "[10, 44, 100]"
      ]
     },
     "execution_count": 285,
     "metadata": {},
     "output_type": "execute_result"
    }
   ],
   "source": [
    "train[\"Course_Degree_SUB\"] = train.Course_Degree.map({\"Science\":1,\"Computer Applications\":2,\"Engineering\":3,\"Management\":4,\"Commerce\":5,\"Others\":6,\"Arts\":7,\"Missing\":8})\n",
    "list(train[\"Course_Degree_SUB\"][train.Course_Degree_SUB == 8].index)"
   ]
  },
  {
   "cell_type": "code",
   "execution_count": 286,
   "metadata": {
    "collapsed": false
   },
   "outputs": [
    {
     "data": {
      "text/plain": [
       "ModeResult(mode=array([4], dtype=int64), count=array([126]))"
      ]
     },
     "execution_count": 286,
     "metadata": {},
     "output_type": "execute_result"
    }
   ],
   "source": [
    "stats.mode(train[\"Course_Degree_SUB\"])"
   ]
  },
  {
   "cell_type": "code",
   "execution_count": 287,
   "metadata": {
    "collapsed": false
   },
   "outputs": [
    {
     "name": "stdout",
     "output_type": "stream",
     "text": [
      "[10, 44, 100]\n"
     ]
    }
   ],
   "source": [
    "## Missing Value imputation for Course Degree ###\n",
    "## Stream HSC is generally the steping stone for deciding the Course in Bachelor's and also taking in consideration the \n",
    "## Gender of the candidate for decideing the Course_Degree.\n",
    "\n",
    "index_Miss_Course = list(train[\"Course_Degree_SUB\"][train.Course_Degree_SUB == 8].index)\n",
    "print(index_Miss_Course)\n",
    "for i in index_Miss_Course:\n",
    "    courseMode = stats.mode(train[\"Course_Degree_SUB\"])[0][0]\n",
    "    coursePredMode = stats.mode(train[\"Course_Degree_SUB\"][((train['Stream_HSC']==train.iloc[i][\"Stream_HSC\"]) & (train['Gender'] == train.iloc[i][\"Gender\"]))])[0][0]\n",
    "    if coursePredMode == 8:\n",
    "        train['Course_Degree_SUB'].iloc[i] = coursePredMode\n",
    "    else:\n",
    "        train['Course_Degree_SUB'].iloc[i] = courseMode\n",
    "    "
   ]
  },
  {
   "cell_type": "code",
   "execution_count": 288,
   "metadata": {
    "collapsed": false
   },
   "outputs": [
    {
     "data": {
      "text/plain": [
       "4"
      ]
     },
     "execution_count": 288,
     "metadata": {},
     "output_type": "execute_result"
    }
   ],
   "source": [
    "stats.mode(train[\"Course_Degree_SUB\"][((train['Stream_HSC']==train.iloc[100][\"Stream_HSC\"]) & (train['Gender'] == train.iloc[100][\"Gender\"]))])[0][0]\n"
   ]
  },
  {
   "cell_type": "code",
   "execution_count": 289,
   "metadata": {
    "collapsed": false
   },
   "outputs": [
    {
     "data": {
      "text/plain": [
       "2    165\n",
       "1    116\n",
       "3     15\n",
       "4      4\n",
       "Name: Stream_HSC_SUB, dtype: int64"
      ]
     },
     "execution_count": 289,
     "metadata": {},
     "output_type": "execute_result"
    }
   ],
   "source": [
    "train[\"Stream_HSC_SUB\"] = train.Stream_HSC.map({\"Commerce\":2,\"Science\":1,\"Arts\":3,\"Missing\":4})\n",
    "train.Stream_HSC_SUB.value_counts()"
   ]
  },
  {
   "cell_type": "code",
   "execution_count": 290,
   "metadata": {
    "collapsed": false
   },
   "outputs": [
    {
     "name": "stdout",
     "output_type": "stream",
     "text": [
      "[12, 33, 60, 89]\n"
     ]
    }
   ],
   "source": [
    "index_Miss_Stream = list(train[\"Stream_HSC\"][train.Stream_HSC_SUB == 4].index)\n",
    "print(index_Miss_Stream)\n",
    "\n",
    "for i in index_Miss_Stream:\n",
    "    courseMode = stats.mode(train[\"Stream_HSC_SUB\"])[0][0]\n",
    "    coursePredMode = stats.mode(train[\"Stream_HSC_SUB\"][((train['Course_Degree']==train.iloc[i][\"Course_Degree\"]) & (train['Gender'] == train.iloc[i][\"Gender\"]))])[0][0]\n",
    "    if coursePredMode == 4:\n",
    "        train['Stream_HSC_SUB'].iloc[i] = coursePredMode\n",
    "    else:\n",
    "        train['Stream_HSC_SUB'].iloc[i] = courseMode\n",
    "    "
   ]
  },
  {
   "cell_type": "code",
   "execution_count": 291,
   "metadata": {
    "collapsed": false
   },
   "outputs": [
    {
     "data": {
      "text/plain": [
       "2"
      ]
     },
     "execution_count": 291,
     "metadata": {},
     "output_type": "execute_result"
    }
   ],
   "source": [
    "train.Stream_HSC_SUB.iloc[12]"
   ]
  },
  {
   "cell_type": "code",
   "execution_count": 292,
   "metadata": {
    "collapsed": false
   },
   "outputs": [
    {
     "name": "stdout",
     "output_type": "stream",
     "text": [
      "<class 'pandas.core.frame.DataFrame'>\n",
      "RangeIndex: 300 entries, 0 to 299\n",
      "Data columns (total 12 columns):\n",
      "Student No           300 non-null int64\n",
      "Gender               300 non-null int64\n",
      "Percent_SSC          300 non-null float64\n",
      "Board_SSC            300 non-null object\n",
      "Percent_HSC          300 non-null float64\n",
      "Board_HSC            300 non-null object\n",
      "Stream_HSC           300 non-null object\n",
      "Percent_Degree       300 non-null float64\n",
      "Course_Degree        300 non-null object\n",
      "Placement            300 non-null int64\n",
      "Course_Degree_SUB    300 non-null int64\n",
      "Stream_HSC_SUB       300 non-null int64\n",
      "dtypes: float64(3), int64(5), object(4)\n",
      "memory usage: 28.2+ KB\n"
     ]
    }
   ],
   "source": [
    "train.info()"
   ]
  },
  {
   "cell_type": "code",
   "execution_count": 295,
   "metadata": {
    "collapsed": false
   },
   "outputs": [
    {
     "data": {
      "image/png": "[encoded data removed]",
      "text/plain": [
       "<matplotlib.figure.Figure at 0xc79f518>"
      ]
     },
     "metadata": {},
     "output_type": "display_data"
    }
   ],
   "source": [
    "## HSC with placement ##\n",
    "g = sns.kdeplot(train[\"Percent_HSC\"][train[\"Placement\"] == 0],color=\"Red\",shade=True)\n",
    "g = sns.kdeplot(train[\"Percent_HSC\"][train[\"Placement\"] == 1],ax=g,color=\"Green\",shade=True)\n",
    "g.set_xlabel(\"%_HSC\")\n",
    "g.set_ylabel(\"Frequency\")\n",
    "g = g.legend([\"Not-Placed\",\"Placed\"])"
   ]
  },
  {
   "cell_type": "code",
   "execution_count": 296,
   "metadata": {
    "collapsed": false
   },
   "outputs": [
    {
     "data": {
      "image/png": "[encoded data removed]",
      "text/plain": [
       "<matplotlib.figure.Figure at 0xc7d8b38>"
      ]
     },
     "metadata": {},
     "output_type": "display_data"
    }
   ],
   "source": [
    "## SSC with placement ##\n",
    "g = sns.kdeplot(train[\"Percent_SSC\"][train[\"Placement\"] == 0],color=\"Red\",shade=True)\n",
    "g = sns.kdeplot(train[\"Percent_SSC\"][train[\"Placement\"] == 1],ax=g,color=\"Green\",shade=True)\n",
    "g.set_xlabel(\"%_SSC\")\n",
    "g.set_ylabel(\"Frequency\")\n",
    "g = g.legend([\"Not-Placed\",\"Placed\"])"
   ]
  },
  {
   "cell_type": "code",
   "execution_count": 302,
   "metadata": {
    "collapsed": true
   },
   "outputs": [],
   "source": [
    "### Label En-coding for the catagorical variables ###\n",
    "train[\"Board_SSC_SUB\"] = train.Board_SSC.map({\"Others\":3,\"ICSE\":2,\"CBSE\":1})\n",
    "train[\"Board_HSC_SUB\"] = train.Board_HSC.map({\"CBSE\":1,\"ISC\":2,\"Others\":3})"
   ]
  },
  {
   "cell_type": "code",
   "execution_count": 303,
   "metadata": {
    "collapsed": false
   },
   "outputs": [
    {
     "data": {
      "text/html": [
       "<div>\n",
       "<table border=\"1\" class=\"dataframe\">\n",
       "  <thead>\n",
       "    <tr style=\"text-align: right;\">\n",
       "      <th></th>\n",
       "      <th>Student No</th>\n",
       "      <th>Gender</th>\n",
       "      <th>Percent_SSC</th>\n",
       "      <th>Board_SSC</th>\n",
       "      <th>Percent_HSC</th>\n",
       "      <th>Board_HSC</th>\n",
       "      <th>Stream_HSC</th>\n",
       "      <th>Percent_Degree</th>\n",
       "      <th>Course_Degree</th>\n",
       "      <th>Placement</th>\n",
       "      <th>Course_Degree_SUB</th>\n",
       "      <th>Stream_HSC_SUB</th>\n",
       "      <th>Board_SSC_SUB</th>\n",
       "      <th>Board_HSC_SUB</th>\n",
       "    </tr>\n",
       "  </thead>\n",
       "  <tbody>\n",
       "    <tr>\n",
       "      <th>0</th>\n",
       "      <td>1</td>\n",
       "      <td>1</td>\n",
       "      <td>62.00</td>\n",
       "      <td>Others</td>\n",
       "      <td>88.00</td>\n",
       "      <td>Others</td>\n",
       "      <td>Commerce</td>\n",
       "      <td>52.00</td>\n",
       "      <td>Science</td>\n",
       "      <td>1</td>\n",
       "      <td>1</td>\n",
       "      <td>2</td>\n",
       "      <td>3</td>\n",
       "      <td>3</td>\n",
       "    </tr>\n",
       "    <tr>\n",
       "      <th>1</th>\n",
       "      <td>2</td>\n",
       "      <td>1</td>\n",
       "      <td>76.33</td>\n",
       "      <td>ICSE</td>\n",
       "      <td>75.33</td>\n",
       "      <td>Others</td>\n",
       "      <td>Science</td>\n",
       "      <td>75.48</td>\n",
       "      <td>Computer Applications</td>\n",
       "      <td>1</td>\n",
       "      <td>2</td>\n",
       "      <td>1</td>\n",
       "      <td>2</td>\n",
       "      <td>3</td>\n",
       "    </tr>\n",
       "    <tr>\n",
       "      <th>2</th>\n",
       "      <td>3</td>\n",
       "      <td>1</td>\n",
       "      <td>72.00</td>\n",
       "      <td>Others</td>\n",
       "      <td>78.00</td>\n",
       "      <td>Others</td>\n",
       "      <td>Commerce</td>\n",
       "      <td>66.63</td>\n",
       "      <td>Engineering</td>\n",
       "      <td>1</td>\n",
       "      <td>3</td>\n",
       "      <td>2</td>\n",
       "      <td>3</td>\n",
       "      <td>3</td>\n",
       "    </tr>\n",
       "    <tr>\n",
       "      <th>3</th>\n",
       "      <td>4</td>\n",
       "      <td>1</td>\n",
       "      <td>60.00</td>\n",
       "      <td>CBSE</td>\n",
       "      <td>63.00</td>\n",
       "      <td>CBSE</td>\n",
       "      <td>Arts</td>\n",
       "      <td>58.00</td>\n",
       "      <td>Management</td>\n",
       "      <td>1</td>\n",
       "      <td>4</td>\n",
       "      <td>3</td>\n",
       "      <td>1</td>\n",
       "      <td>1</td>\n",
       "    </tr>\n",
       "    <tr>\n",
       "      <th>4</th>\n",
       "      <td>5</td>\n",
       "      <td>1</td>\n",
       "      <td>61.00</td>\n",
       "      <td>CBSE</td>\n",
       "      <td>55.00</td>\n",
       "      <td>ISC</td>\n",
       "      <td>Science</td>\n",
       "      <td>54.00</td>\n",
       "      <td>Engineering</td>\n",
       "      <td>1</td>\n",
       "      <td>3</td>\n",
       "      <td>1</td>\n",
       "      <td>1</td>\n",
       "      <td>2</td>\n",
       "    </tr>\n",
       "    <tr>\n",
       "      <th>5</th>\n",
       "      <td>6</td>\n",
       "      <td>1</td>\n",
       "      <td>55.00</td>\n",
       "      <td>ICSE</td>\n",
       "      <td>64.00</td>\n",
       "      <td>CBSE</td>\n",
       "      <td>Commerce</td>\n",
       "      <td>50.00</td>\n",
       "      <td>Commerce</td>\n",
       "      <td>1</td>\n",
       "      <td>5</td>\n",
       "      <td>2</td>\n",
       "      <td>2</td>\n",
       "      <td>1</td>\n",
       "    </tr>\n",
       "    <tr>\n",
       "      <th>6</th>\n",
       "      <td>7</td>\n",
       "      <td>0</td>\n",
       "      <td>70.00</td>\n",
       "      <td>Others</td>\n",
       "      <td>54.00</td>\n",
       "      <td>Others</td>\n",
       "      <td>Science</td>\n",
       "      <td>65.00</td>\n",
       "      <td>Others</td>\n",
       "      <td>1</td>\n",
       "      <td>6</td>\n",
       "      <td>1</td>\n",
       "      <td>3</td>\n",
       "      <td>3</td>\n",
       "    </tr>\n",
       "    <tr>\n",
       "      <th>7</th>\n",
       "      <td>8</td>\n",
       "      <td>1</td>\n",
       "      <td>68.00</td>\n",
       "      <td>ICSE</td>\n",
       "      <td>77.00</td>\n",
       "      <td>ISC</td>\n",
       "      <td>Commerce</td>\n",
       "      <td>72.50</td>\n",
       "      <td>Management</td>\n",
       "      <td>1</td>\n",
       "      <td>4</td>\n",
       "      <td>2</td>\n",
       "      <td>2</td>\n",
       "      <td>2</td>\n",
       "    </tr>\n",
       "    <tr>\n",
       "      <th>8</th>\n",
       "      <td>9</td>\n",
       "      <td>1</td>\n",
       "      <td>82.80</td>\n",
       "      <td>CBSE</td>\n",
       "      <td>70.60</td>\n",
       "      <td>CBSE</td>\n",
       "      <td>Commerce</td>\n",
       "      <td>69.30</td>\n",
       "      <td>Commerce</td>\n",
       "      <td>1</td>\n",
       "      <td>5</td>\n",
       "      <td>2</td>\n",
       "      <td>1</td>\n",
       "      <td>1</td>\n",
       "    </tr>\n",
       "    <tr>\n",
       "      <th>9</th>\n",
       "      <td>10</td>\n",
       "      <td>0</td>\n",
       "      <td>59.00</td>\n",
       "      <td>CBSE</td>\n",
       "      <td>74.00</td>\n",
       "      <td>CBSE</td>\n",
       "      <td>Arts</td>\n",
       "      <td>59.00</td>\n",
       "      <td>Management</td>\n",
       "      <td>1</td>\n",
       "      <td>4</td>\n",
       "      <td>3</td>\n",
       "      <td>1</td>\n",
       "      <td>1</td>\n",
       "    </tr>\n",
       "  </tbody>\n",
       "</table>\n",
       "</div>"
      ],
      "text/plain": [
       "   Student No  Gender  Percent_SSC Board_SSC  Percent_HSC Board_HSC  \\\n",
       "0           1       1        62.00    Others        88.00    Others   \n",
       "1           2       1        76.33      ICSE        75.33    Others   \n",
       "2           3       1        72.00    Others        78.00    Others   \n",
       "3           4       1        60.00      CBSE        63.00      CBSE   \n",
       "4           5       1        61.00      CBSE        55.00       ISC   \n",
       "5           6       1        55.00      ICSE        64.00      CBSE   \n",
       "6           7       0        70.00    Others        54.00    Others   \n",
       "7           8       1        68.00      ICSE        77.00       ISC   \n",
       "8           9       1        82.80      CBSE        70.60      CBSE   \n",
       "9          10       0        59.00      CBSE        74.00      CBSE   \n",
       "\n",
       "  Stream_HSC  Percent_Degree          Course_Degree  Placement  \\\n",
       "0   Commerce           52.00                Science          1   \n",
       "1    Science           75.48  Computer Applications          1   \n",
       "2   Commerce           66.63            Engineering          1   \n",
       "3       Arts           58.00             Management          1   \n",
       "4    Science           54.00            Engineering          1   \n",
       "5   Commerce           50.00               Commerce          1   \n",
       "6    Science           65.00                 Others          1   \n",
       "7   Commerce           72.50             Management          1   \n",
       "8   Commerce           69.30               Commerce          1   \n",
       "9       Arts           59.00             Management          1   \n",
       "\n",
       "   Course_Degree_SUB  Stream_HSC_SUB  Board_SSC_SUB  Board_HSC_SUB  \n",
       "0                  1               2              3              3  \n",
       "1                  2               1              2              3  \n",
       "2                  3               2              3              3  \n",
       "3                  4               3              1              1  \n",
       "4                  3               1              1              2  \n",
       "5                  5               2              2              1  \n",
       "6                  6               1              3              3  \n",
       "7                  4               2              2              2  \n",
       "8                  5               2              1              1  \n",
       "9                  4               3              1              1  "
      ]
     },
     "execution_count": 303,
     "metadata": {},
     "output_type": "execute_result"
    }
   ],
   "source": [
    "train.head(10)"
   ]
  },
  {
   "cell_type": "code",
   "execution_count": 317,
   "metadata": {
    "collapsed": true
   },
   "outputs": [],
   "source": [
    "### Import algorithmns ###\n",
    "from sklearn.ensemble import RandomForestClassifier\n",
    "from sklearn.linear_model import LogisticRegression\n",
    "from xgboost import XGBClassifier\n",
    "from sklearn.model_selection import train_test_split,GridSearchCV,cross_val_score,StratifiedKFold,learning_curve\n"
   ]
  },
  {
   "cell_type": "code",
   "execution_count": 312,
   "metadata": {
    "collapsed": false
   },
   "outputs": [
    {
     "data": {
      "text/plain": [
       "Index(['Student No', 'Gender', 'Percent_SSC', 'Board_SSC', 'Percent_HSC',\n",
       "       'Board_HSC', 'Stream_HSC', 'Percent_Degree', 'Course_Degree',\n",
       "       'Placement', 'Course_Degree_SUB', 'Stream_HSC_SUB', 'Board_SSC_SUB',\n",
       "       'Board_HSC_SUB'],\n",
       "      dtype='object')"
      ]
     },
     "execution_count": 312,
     "metadata": {},
     "output_type": "execute_result"
    }
   ],
   "source": [
    "train.columns"
   ]
  },
  {
   "cell_type": "code",
   "execution_count": 313,
   "metadata": {
    "collapsed": false
   },
   "outputs": [
    {
     "name": "stdout",
     "output_type": "stream",
     "text": [
      "(210, 8) (210,)\n",
      "(90, 8) (90,)\n"
     ]
    }
   ],
   "source": [
    "Y = train.Placement\n",
    "X_train,X_test,Y_train,Y_test = train_test_split(train[[\"Gender\",\"Percent_SSC\",\"Percent_HSC\",\"Percent_Degree\",\"Course_Degree_SUB\",\"Stream_HSC_SUB\",\"Board_SSC_SUB\",\"Board_HSC_SUB\"]],Y,test_size=0.3)\n",
    "print(X_train.shape , Y_train.shape)\n",
    "print(X_test.shape , Y_test.shape)"
   ]
  },
  {
   "cell_type": "code",
   "execution_count": 314,
   "metadata": {
    "collapsed": true
   },
   "outputs": [],
   "source": [
    "## Comparing 3 popular classifier and evaluate the mean accuracy of each of them by a stratified kfold cross validation procedure.\n",
    "kfold = StratifiedKFold(n_splits=10)"
   ]
  },
  {
   "cell_type": "code",
   "execution_count": 319,
   "metadata": {
    "collapsed": false
   },
   "outputs": [
    {
     "data": {
      "image/png": "[encoded data removed]",
      "text/plain": [
       "<matplotlib.figure.Figure at 0xc078978>"
      ]
     },
     "metadata": {},
     "output_type": "display_data"
    }
   ],
   "source": [
    "## Testing Different Algorithms ##\n",
    "random_Seed = 2\n",
    "classifiers = []\n",
    "classifiers.append(LogisticRegression(random_state=random_Seed))\n",
    "classifiers.append(RandomForestClassifier(random_state=random_Seed))\n",
    "classifiers.append(XGBClassifier(random_state=random_Seed))\n",
    "\n",
    "cv_results = []\n",
    "for classifier in classifiers:\n",
    "    cv_results.append(cross_val_score(classifier,X_train,y=Y_train,scoring=\"accuracy\",cv=kfold,n_jobs=4))\n",
    "\n",
    "cv_means = []\n",
    "cv_std = [] \n",
    "\n",
    "for cv_result in cv_results:\n",
    "    cv_means.append(cv_result.mean())\n",
    "    cv_std.append(cv_result.std())\n",
    "\n",
    "cv_res = pd.DataFrame({\"Cross_Validation_Mean\":cv_means,\"Cross_Validation_Error\":cv_std,\"Algorithms\":[\"Logistic Regression\",\n",
    "                                                                                                      \"Random Forest\",\"XG-Boost\"]})\n",
    "g = sns.barplot(\"Cross_Validation_Mean\",\"Algorithms\",data=cv_res,palette=\"Set3\",orient = \"h\",**{'xerr':cv_std})\n",
    "g.set_xlabel(\"Mean Accuracy\")\n",
    "g = g.set_title(\"Cross validation scores\")"
   ]
  },
  {
   "cell_type": "code",
   "execution_count": 320,
   "metadata": {
    "collapsed": false
   },
   "outputs": [],
   "source": [
    "## Hyper parameter tunning for above Models ##\n",
    "## Preforming Grid Search Optimization for the algorithms ##"
   ]
  },
  {
   "cell_type": "code",
   "execution_count": 329,
   "metadata": {
    "collapsed": false
   },
   "outputs": [
    {
     "name": "stdout",
     "output_type": "stream",
     "text": [
      "Fitting 10 folds for each of 54 candidates, totalling 540 fits\n"
     ]
    },
    {
     "name": "stderr",
     "output_type": "stream",
     "text": [
      "[Parallel(n_jobs=4)]: Done  42 tasks      | elapsed:   24.2s\n",
      "[Parallel(n_jobs=4)]: Done 192 tasks      | elapsed:   54.5s\n",
      "[Parallel(n_jobs=4)]: Done 442 tasks      | elapsed:  1.8min\n",
      "[Parallel(n_jobs=4)]: Done 540 out of 540 | elapsed:  2.2min finished\n"
     ]
    },
    {
     "data": {
      "text/plain": [
       "0.81904761904761902"
      ]
     },
     "execution_count": 329,
     "metadata": {},
     "output_type": "execute_result"
    }
   ],
   "source": [
    "### Random Forest Tunning ###\n",
    "RFC = RandomForestClassifier()\n",
    "## Searching Grid for optimal parameter ##\n",
    "rf_param_grid = {\n",
    "    \"max_depth\":[None],\n",
    "    \"max_features\":[1,3,8],\n",
    "    \"min_samples_split\":[2,3,10],\n",
    "    \"min_samples_leaf\":[1,3,10],\n",
    "    \"bootstrap\":[False],\n",
    "    \"n_estimators\":[100,300],\n",
    "    \"criterion\":[\"gini\"]}\n",
    "\n",
    "gsRFC = GridSearchCV(RFC,param_grid = rf_param_grid, cv=kfold, scoring=\"accuracy\", n_jobs= 4, verbose = 1)\n",
    "gsRFC.fit(X_train,Y_train)\n",
    "RFC_best = gsRFC.best_estimator_\n",
    "gsRFC.best_score_\n"
   ]
  },
  {
   "cell_type": "code",
   "execution_count": 339,
   "metadata": {
    "collapsed": false
   },
   "outputs": [
    {
     "name": "stdout",
     "output_type": "stream",
     "text": [
      "Fitting 10 folds for each of 12 candidates, totalling 120 fits\n",
      "Best Penalty: l1\n",
      "Best C: 0.001\n",
      "Best Score : 0.819047619048\n"
     ]
    },
    {
     "name": "stderr",
     "output_type": "stream",
     "text": [
      "[Parallel(n_jobs=4)]: Done 120 out of 120 | elapsed:   15.8s finished\n"
     ]
    }
   ],
   "source": [
    "#### Logistic Regression ####\n",
    "logistic = LogisticRegression()\n",
    "# penalty = ['l1','l2']\n",
    "# C = np.logspace(0,4,10)\n",
    "hyperparameters = {\"C\":[0.001,0.01,0.1,1,10,100],\"penalty\":['l1','l2']}\n",
    "clf = GridSearchCV(logistic,param_grid=hyperparameters,cv=kfold,n_jobs = 4,verbose=1)\n",
    "clf.fit(X_train,Y_train)\n",
    "\n",
    "# View best hyperparameters\n",
    "print('Best Penalty:', clf.best_estimator_.get_params()['penalty'])\n",
    "print('Best C:', clf.best_estimator_.get_params()['C'])\n",
    "print('Best Score :',clf.best_score_)"
   ]
  },
  {
   "cell_type": "code",
   "execution_count": 366,
   "metadata": {
    "collapsed": false
   },
   "outputs": [],
   "source": [
    "#### XG_Boost ####\n",
    "import xgboost as xgb\n",
    "from xgboost.sklearn import XGBClassifier\n",
    "from sklearn import cross_validation, metrics   #Additional scklearn functions\n",
    "from sklearn.grid_search import GridSearchCV   #Perforing grid search\n",
    "import matplotlib.pylab as plt\n",
    "%matplotlib inline\n",
    "from matplotlib.pylab import rcParams\n",
    "rcParams['figure.figsize'] = 12, 4\n",
    "\n",
    "def modelfit(alg, dtrain, predictors,useTrainCV=True, cv_folds=5, early_stopping_rounds=50):\n",
    "    \n",
    "    if useTrainCV:\n",
    "        xgb_param = alg.get_xgb_params()\n",
    "        xgtrain = xgb.DMatrix(dtrain[predictors].values, label=dtrain['Placement'].values)\n",
    "        cvresult = xgb.cv(xgb_param, xgtrain, num_boost_round=alg.get_params()['n_estimators'], nfold=cv_folds,\n",
    "            metrics='auc', early_stopping_rounds=early_stopping_rounds)\n",
    "        alg.set_params(n_estimators=cvresult.shape[0])\n",
    "    \n",
    "    #Fit the algorithm on the data\n",
    "    alg.fit(dtrain[predictors], dtrain['Placement'],eval_metric='auc')\n",
    "        \n",
    "    #Predict training set:\n",
    "    dtrain_predictions = alg.predict(dtrain[predictors])\n",
    "    dtrain_predprob = alg.predict_proba(dtrain[predictors])[:,1]\n",
    "        \n",
    "    #Print model report:\n",
    "    print (\"\\nModel Report\")\n",
    "    print (\"Accuracy : %.4g\" % metrics.accuracy_score(dtrain['Placement'].values, dtrain_predictions))\n",
    "    print (\"AUC Score (Train): %f\" % metrics.roc_auc_score(dtrain['Placement'], dtrain_predprob))\n",
    "                    \n",
    "    from xgboost import plot_importance\n",
    "    from matplotlib import pyplot\n",
    "    plot_importance(alg)\n",
    "    pyplot.show()"
   ]
  },
  {
   "cell_type": "code",
   "execution_count": 367,
   "metadata": {
    "collapsed": false
   },
   "outputs": [
    {
     "name": "stdout",
     "output_type": "stream",
     "text": [
      "\n",
      "Model Report\n",
      "Accuracy : 0.8833\n",
      "AUC Score (Train): 0.946640\n"
     ]
    },
    {
     "data": {
      "image/png": "[encoded data removed]",
      "text/plain": [
       "<matplotlib.figure.Figure at 0xb8976d8>"
      ]
     },
     "metadata": {},
     "output_type": "display_data"
    }
   ],
   "source": [
    "#Choose all predictors except target & IDcols\n",
    "predictors = [x for x in X_train.columns]\n",
    "xgb1 = XGBClassifier(\n",
    " learning_rate =0.1,\n",
    " n_estimators=1000,\n",
    " max_depth=5,\n",
    " min_child_weight=1,\n",
    " gamma=0,\n",
    " subsample=0.8,\n",
    " colsample_bytree=0.8,\n",
    " objective= 'binary:logistic',\n",
    " nthread=4,\n",
    " scale_pos_weight=1,\n",
    " seed=27)\n",
    "modelfit(xgb1, train, predictors)\n",
    "\n"
   ]
  },
  {
   "cell_type": "code",
   "execution_count": 375,
   "metadata": {
    "collapsed": false
   },
   "outputs": [
    {
     "data": {
      "text/plain": [
       "([mean: 0.62240, std: 0.05146, params: {'max_depth': 3, 'min_child_weight': 1},\n",
       "  mean: 0.59800, std: 0.04095, params: {'max_depth': 3, 'min_child_weight': 3},\n",
       "  mean: 0.60120, std: 0.06839, params: {'max_depth': 3, 'min_child_weight': 5},\n",
       "  mean: 0.63480, std: 0.05862, params: {'max_depth': 5, 'min_child_weight': 1},\n",
       "  mean: 0.61280, std: 0.03037, params: {'max_depth': 5, 'min_child_weight': 3},\n",
       "  mean: 0.59520, std: 0.07555, params: {'max_depth': 5, 'min_child_weight': 5},\n",
       "  mean: 0.62760, std: 0.05384, params: {'max_depth': 7, 'min_child_weight': 1},\n",
       "  mean: 0.61400, std: 0.03562, params: {'max_depth': 7, 'min_child_weight': 3},\n",
       "  mean: 0.59520, std: 0.07555, params: {'max_depth': 7, 'min_child_weight': 5},\n",
       "  mean: 0.62440, std: 0.05254, params: {'max_depth': 9, 'min_child_weight': 1},\n",
       "  mean: 0.61400, std: 0.03562, params: {'max_depth': 9, 'min_child_weight': 3},\n",
       "  mean: 0.59520, std: 0.07555, params: {'max_depth': 9, 'min_child_weight': 5}],\n",
       " {'max_depth': 5, 'min_child_weight': 1},\n",
       " 0.6348)"
      ]
     },
     "execution_count": 375,
     "metadata": {},
     "output_type": "execute_result"
    }
   ],
   "source": [
    "param_test1 = {\n",
    " 'max_depth':[3,5,7,9],\n",
    " 'min_child_weight':[1,3,5]\n",
    "}\n",
    "gsearch1 = GridSearchCV(estimator = XGBClassifier( learning_rate =0.1, n_estimators=140, max_depth=5,\n",
    " min_child_weight=1, gamma=0, subsample=0.8, colsample_bytree=0.8,\n",
    " objective= 'binary:logistic', nthread=4, scale_pos_weight=1, seed=27), \n",
    " param_grid = param_test1, scoring='roc_auc',n_jobs=4,iid=False, cv=5)\n",
    "gsearch1.fit(train[predictors],train['Placement'])\n",
    "gsearch1.grid_scores_, gsearch1.best_params_, gsearch1.best_score_"
   ]
  },
  {
   "cell_type": "code",
   "execution_count": 379,
   "metadata": {
    "collapsed": false
   },
   "outputs": [
    {
     "data": {
      "text/plain": [
       "([mean: 0.60640, std: 0.07126, params: {'max_depth': 4, 'min_child_weight': 4},\n",
       "  mean: 0.59240, std: 0.07584, params: {'max_depth': 4, 'min_child_weight': 5},\n",
       "  mean: 0.60920, std: 0.06152, params: {'max_depth': 4, 'min_child_weight': 6},\n",
       "  mean: 0.61200, std: 0.06476, params: {'max_depth': 5, 'min_child_weight': 4},\n",
       "  mean: 0.59520, std: 0.07555, params: {'max_depth': 5, 'min_child_weight': 5},\n",
       "  mean: 0.60920, std: 0.06152, params: {'max_depth': 5, 'min_child_weight': 6},\n",
       "  mean: 0.61200, std: 0.06476, params: {'max_depth': 6, 'min_child_weight': 4},\n",
       "  mean: 0.59520, std: 0.07555, params: {'max_depth': 6, 'min_child_weight': 5},\n",
       "  mean: 0.60920, std: 0.06152, params: {'max_depth': 6, 'min_child_weight': 6}],\n",
       " {'max_depth': 5, 'min_child_weight': 4},\n",
       " 0.612)"
      ]
     },
     "execution_count": 379,
     "metadata": {},
     "output_type": "execute_result"
    }
   ],
   "source": [
    "param_test2 = {\n",
    " 'max_depth':[4,5,6],\n",
    " 'min_child_weight':[4,5,6]\n",
    "}\n",
    "gsearch2 = GridSearchCV(estimator = XGBClassifier( learning_rate=0.1, n_estimators=140, max_depth=5,\n",
    " min_child_weight=2, gamma=0, subsample=0.8, colsample_bytree=0.8,\n",
    " objective= 'binary:logistic', nthread=4, scale_pos_weight=1,seed=27), \n",
    " param_grid = param_test2, scoring='roc_auc',n_jobs=4,iid=False, cv=5)\n",
    "gsearch2.fit(train[predictors],train['Placement'])\n",
    "gsearch2.grid_scores_, gsearch2.best_params_, gsearch2.best_score_"
   ]
  },
  {
   "cell_type": "code",
   "execution_count": 380,
   "metadata": {
    "collapsed": false
   },
   "outputs": [
    {
     "data": {
      "text/plain": [
       "GridSearchCV(cv=5, error_score='raise',\n",
       "       estimator=XGBClassifier(base_score=0.5, booster='gbtree', colsample_bylevel=1,\n",
       "       colsample_bytree=0.8, gamma=0, learning_rate=0.1, max_delta_step=0,\n",
       "       max_depth=4, min_child_weight=2, missing=None, n_estimators=140,\n",
       "       n_jobs=1, nthread=4, objective='binary:logistic', random_state=0,\n",
       "       reg_alpha=0, reg_lambda=1, scale_pos_weight=1, seed=27, silent=True,\n",
       "       subsample=0.8),\n",
       "       fit_params={}, iid=False, n_jobs=4,\n",
       "       param_grid={'min_child_weight': [6, 8, 10, 12]},\n",
       "       pre_dispatch='2*n_jobs', refit=True, scoring='roc_auc', verbose=0)"
      ]
     },
     "execution_count": 380,
     "metadata": {},
     "output_type": "execute_result"
    }
   ],
   "source": [
    "param_test2b = {\n",
    " 'min_child_weight':[6,8,10,12]\n",
    "}\n",
    "gsearch2b = GridSearchCV(estimator = XGBClassifier( learning_rate=0.1, n_estimators=140, max_depth=4,\n",
    " min_child_weight=2, gamma=0, subsample=0.8, colsample_bytree=0.8,\n",
    " objective= 'binary:logistic', nthread=4, scale_pos_weight=1,seed=27), \n",
    " param_grid = param_test2b, scoring='roc_auc',n_jobs=4,iid=False, cv=5)\n",
    "gsearch2b.fit(train[predictors],train['Placement'])"
   ]
  },
  {
   "cell_type": "code",
   "execution_count": 381,
   "metadata": {
    "collapsed": false
   },
   "outputs": [
    {
     "name": "stdout",
     "output_type": "stream",
     "text": [
      "\n",
      "Model Report\n",
      "Accuracy : 0.8767\n",
      "AUC Score (Train): 0.925200\n"
     ]
    },
    {
     "data": {
      "image/png": "[encoded data removed]",
      "text/plain": [
       "<matplotlib.figure.Figure at 0xa35a550>"
      ]
     },
     "metadata": {},
     "output_type": "display_data"
    },
    {
     "data": {
      "text/plain": [
       "([mean: 0.60920, std: 0.06152, params: {'min_child_weight': 6},\n",
       "  mean: 0.63100, std: 0.07159, params: {'min_child_weight': 8},\n",
       "  mean: 0.63660, std: 0.07296, params: {'min_child_weight': 10},\n",
       "  mean: 0.63920, std: 0.07238, params: {'min_child_weight': 12}],\n",
       " {'min_child_weight': 12},\n",
       " 0.6392)"
      ]
     },
     "execution_count": 381,
     "metadata": {},
     "output_type": "execute_result"
    }
   ],
   "source": [
    "modelfit(gsearch2.best_estimator_, train, predictors)\n",
    "gsearch2b.grid_scores_, gsearch2b.best_params_, gsearch2b.best_score_\n"
   ]
  },
  {
   "cell_type": "code",
   "execution_count": 382,
   "metadata": {
    "collapsed": false
   },
   "outputs": [
    {
     "data": {
      "text/plain": [
       "([mean: 0.60920, std: 0.06152, params: {'gamma': 0.0},\n",
       "  mean: 0.61060, std: 0.06372, params: {'gamma': 0.1},\n",
       "  mean: 0.60720, std: 0.06371, params: {'gamma': 0.2},\n",
       "  mean: 0.60480, std: 0.06910, params: {'gamma': 0.3},\n",
       "  mean: 0.60520, std: 0.06170, params: {'gamma': 0.4}],\n",
       " {'gamma': 0.1},\n",
       " 0.6105999999999999)"
      ]
     },
     "execution_count": 382,
     "metadata": {},
     "output_type": "execute_result"
    }
   ],
   "source": [
    "param_test3 = {\n",
    " 'gamma':[i/10.0 for i in range(0,5)]\n",
    "}\n",
    "gsearch3 = GridSearchCV(estimator = XGBClassifier( learning_rate =0.1, n_estimators=140, max_depth=4,\n",
    " min_child_weight=6, gamma=0, subsample=0.8, colsample_bytree=0.8,\n",
    " objective= 'binary:logistic', nthread=4, scale_pos_weight=1,seed=27), \n",
    " param_grid = param_test3, scoring='roc_auc',n_jobs=4,iid=False, cv=5)\n",
    "gsearch3.fit(train[predictors],train['Placement'])\n",
    "gsearch3.grid_scores_, gsearch3.best_params_, gsearch3.best_score_"
   ]
  },
  {
   "cell_type": "code",
   "execution_count": 383,
   "metadata": {
    "collapsed": false
   },
   "outputs": [
    {
     "name": "stdout",
     "output_type": "stream",
     "text": [
      "\n",
      "Model Report\n",
      "Accuracy : 0.85\n",
      "AUC Score (Train): 0.862120\n"
     ]
    },
    {
     "data": {
      "image/png": "[encoded data removed]",
      "text/plain": [
       "<matplotlib.figure.Figure at 0xb8f83c8>"
      ]
     },
     "metadata": {},
     "output_type": "display_data"
    }
   ],
   "source": [
    "xgb2 = XGBClassifier(\n",
    " learning_rate =0.1,\n",
    " n_estimators=1000,\n",
    " max_depth=4,\n",
    " min_child_weight=6,\n",
    " gamma=0,\n",
    " subsample=0.8,\n",
    " colsample_bytree=0.8,\n",
    " objective= 'binary:logistic',\n",
    " nthread=4,\n",
    " scale_pos_weight=1,\n",
    " seed=27)\n",
    "modelfit(xgb2, train, predictors)"
   ]
  },
  {
   "cell_type": "code",
   "execution_count": 384,
   "metadata": {
    "collapsed": false
   },
   "outputs": [
    {
     "data": {
      "text/plain": [
       "([mean: 0.61840, std: 0.07052, params: {'colsample_bytree': 0.6, 'subsample': 0.6},\n",
       "  mean: 0.60920, std: 0.05967, params: {'colsample_bytree': 0.6, 'subsample': 0.7},\n",
       "  mean: 0.60540, std: 0.06535, params: {'colsample_bytree': 0.6, 'subsample': 0.8},\n",
       "  mean: 0.58600, std: 0.05519, params: {'colsample_bytree': 0.6, 'subsample': 0.9},\n",
       "  mean: 0.63080, std: 0.07195, params: {'colsample_bytree': 0.7, 'subsample': 0.6},\n",
       "  mean: 0.61320, std: 0.06475, params: {'colsample_bytree': 0.7, 'subsample': 0.7},\n",
       "  mean: 0.61060, std: 0.06854, params: {'colsample_bytree': 0.7, 'subsample': 0.8},\n",
       "  mean: 0.58100, std: 0.06833, params: {'colsample_bytree': 0.7, 'subsample': 0.9},\n",
       "  mean: 0.63200, std: 0.06948, params: {'colsample_bytree': 0.8, 'subsample': 0.6},\n",
       "  mean: 0.60860, std: 0.06630, params: {'colsample_bytree': 0.8, 'subsample': 0.7},\n",
       "  mean: 0.60560, std: 0.06838, params: {'colsample_bytree': 0.8, 'subsample': 0.8},\n",
       "  mean: 0.58640, std: 0.05636, params: {'colsample_bytree': 0.8, 'subsample': 0.9},\n",
       "  mean: 0.62640, std: 0.05747, params: {'colsample_bytree': 0.9, 'subsample': 0.6},\n",
       "  mean: 0.61760, std: 0.06697, params: {'colsample_bytree': 0.9, 'subsample': 0.7},\n",
       "  mean: 0.59380, std: 0.06874, params: {'colsample_bytree': 0.9, 'subsample': 0.8},\n",
       "  mean: 0.58780, std: 0.05258, params: {'colsample_bytree': 0.9, 'subsample': 0.9}],\n",
       " {'colsample_bytree': 0.8, 'subsample': 0.6},\n",
       " 0.632)"
      ]
     },
     "execution_count": 384,
     "metadata": {},
     "output_type": "execute_result"
    }
   ],
   "source": [
    "param_test4 = {\n",
    " 'subsample':[i/10.0 for i in range(6,10)],\n",
    " 'colsample_bytree':[i/10.0 for i in range(6,10)]\n",
    "}\n",
    "gsearch4 = GridSearchCV(estimator = XGBClassifier( learning_rate =0.1, n_estimators=177, max_depth=4,\n",
    " min_child_weight=6, gamma=0, subsample=0.8, colsample_bytree=0.8,\n",
    " objective= 'binary:logistic', nthread=4, scale_pos_weight=1,seed=27), \n",
    " param_grid = param_test4, scoring='roc_auc',n_jobs=4,iid=False, cv=5)\n",
    "gsearch4.fit(train[predictors],train['Placement'])\n",
    "gsearch4.grid_scores_, gsearch4.best_params_, gsearch4.best_score_"
   ]
  },
  {
   "cell_type": "code",
   "execution_count": 385,
   "metadata": {
    "collapsed": false
   },
   "outputs": [
    {
     "data": {
      "text/plain": [
       "GridSearchCV(cv=5, error_score='raise',\n",
       "       estimator=XGBClassifier(base_score=0.5, booster='gbtree', colsample_bylevel=1,\n",
       "       colsample_bytree=0.8, gamma=0, learning_rate=0.1, max_delta_step=0,\n",
       "       max_depth=4, min_child_weight=6, missing=None, n_estimators=177,\n",
       "       n_jobs=1, nthread=4, objective='binary:logistic', random_state=0,\n",
       "       reg_alpha=0, reg_lambda=1, scale_pos_weight=1, seed=27, silent=True,\n",
       "       subsample=0.8),\n",
       "       fit_params={}, iid=False, n_jobs=4,\n",
       "       param_grid={'subsample': [0.75, 0.8, 0.85], 'colsample_bytree': [0.75, 0.8, 0.85]},\n",
       "       pre_dispatch='2*n_jobs', refit=True, scoring='roc_auc', verbose=0)"
      ]
     },
     "execution_count": 385,
     "metadata": {},
     "output_type": "execute_result"
    }
   ],
   "source": [
    "param_test5 = {\n",
    " 'subsample':[i/100.0 for i in range(75,90,5)],\n",
    " 'colsample_bytree':[i/100.0 for i in range(75,90,5)]\n",
    "}\n",
    "gsearch5 = GridSearchCV(estimator = XGBClassifier( learning_rate =0.1, n_estimators=177, max_depth=4,\n",
    " min_child_weight=6, gamma=0, subsample=0.8, colsample_bytree=0.8,\n",
    " objective= 'binary:logistic', nthread=4, scale_pos_weight=1,seed=27), \n",
    " param_grid = param_test5, scoring='roc_auc',n_jobs=4,iid=False, cv=5)\n",
    "gsearch5.fit(train[predictors],train['Placement'])"
   ]
  },
  {
   "cell_type": "code",
   "execution_count": 387,
   "metadata": {
    "collapsed": false
   },
   "outputs": [
    {
     "data": {
      "text/plain": [
       "([mean: 0.60500, std: 0.06700, params: {'reg_alpha': 1e-05},\n",
       "  mean: 0.60880, std: 0.07072, params: {'reg_alpha': 0.01},\n",
       "  mean: 0.60520, std: 0.07391, params: {'reg_alpha': 0.1},\n",
       "  mean: 0.60040, std: 0.06546, params: {'reg_alpha': 1},\n",
       "  mean: 0.50000, std: 0.00000, params: {'reg_alpha': 100}],\n",
       " {'reg_alpha': 0.01},\n",
       " 0.6087999999999999)"
      ]
     },
     "execution_count": 387,
     "metadata": {},
     "output_type": "execute_result"
    }
   ],
   "source": [
    "param_test6 = {\n",
    " 'reg_alpha':[1e-5, 1e-2, 0.1, 1, 100]\n",
    "}\n",
    "gsearch6 = GridSearchCV(estimator = XGBClassifier( learning_rate =0.1, n_estimators=177, max_depth=4,\n",
    " min_child_weight=6, gamma=0.1, subsample=0.8, colsample_bytree=0.8,\n",
    " objective= 'binary:logistic', nthread=4, scale_pos_weight=1,seed=27), \n",
    " param_grid = param_test6, scoring='roc_auc',n_jobs=4,iid=False, cv=5)\n",
    "gsearch6.fit(train[predictors],train['Placement'])\n",
    "gsearch6.grid_scores_, gsearch6.best_params_, gsearch6.best_score_"
   ]
  },
  {
   "cell_type": "code",
   "execution_count": 388,
   "metadata": {
    "collapsed": false
   },
   "outputs": [
    {
     "data": {
      "text/plain": [
       "([mean: 0.60500, std: 0.06700, params: {'reg_alpha': 0},\n",
       "  mean: 0.60500, std: 0.06700, params: {'reg_alpha': 0.001},\n",
       "  mean: 0.60120, std: 0.07157, params: {'reg_alpha': 0.005},\n",
       "  mean: 0.60880, std: 0.07072, params: {'reg_alpha': 0.01},\n",
       "  mean: 0.60660, std: 0.07319, params: {'reg_alpha': 0.05}],\n",
       " {'reg_alpha': 0.01},\n",
       " 0.6087999999999999)"
      ]
     },
     "execution_count": 388,
     "metadata": {},
     "output_type": "execute_result"
    }
   ],
   "source": [
    "param_test7 = {\n",
    " 'reg_alpha':[0, 0.001, 0.005, 0.01, 0.05]\n",
    "}\n",
    "gsearch7 = GridSearchCV(estimator = XGBClassifier( learning_rate =0.1, n_estimators=177, max_depth=4,\n",
    " min_child_weight=6, gamma=0.1, subsample=0.8, colsample_bytree=0.8,\n",
    " objective= 'binary:logistic', nthread=4, scale_pos_weight=1,seed=27), \n",
    " param_grid = param_test7, scoring='roc_auc',n_jobs=4,iid=False, cv=5)\n",
    "gsearch7.fit(train[predictors],train['Placement'])\n",
    "gsearch7.grid_scores_, gsearch7.best_params_, gsearch7.best_score_"
   ]
  },
  {
   "cell_type": "code",
   "execution_count": 389,
   "metadata": {
    "collapsed": false
   },
   "outputs": [
    {
     "name": "stdout",
     "output_type": "stream",
     "text": [
      "\n",
      "Model Report\n",
      "Accuracy : 0.85\n",
      "AUC Score (Train): 0.853880\n"
     ]
    },
    {
     "data": {
      "image/png": "[encoded data removed]",
      "text/plain": [
       "<matplotlib.figure.Figure at 0xb871128>"
      ]
     },
     "metadata": {},
     "output_type": "display_data"
    }
   ],
   "source": [
    "xgb3 = XGBClassifier(\n",
    " learning_rate =0.1,\n",
    " n_estimators=1000,\n",
    " max_depth=4,\n",
    " min_child_weight=6,\n",
    " gamma=0,\n",
    " subsample=0.8,\n",
    " colsample_bytree=0.8,\n",
    " reg_alpha=0.005,\n",
    " objective= 'binary:logistic',\n",
    " nthread=4,\n",
    " scale_pos_weight=1,\n",
    " seed=27)\n",
    "modelfit(xgb3, train, predictors)"
   ]
  },
  {
   "cell_type": "code",
   "execution_count": 390,
   "metadata": {
    "collapsed": false
   },
   "outputs": [
    {
     "name": "stdout",
     "output_type": "stream",
     "text": [
      "\n",
      "Model Report\n",
      "Accuracy : 0.8333\n",
      "AUC Score (Train): 0.783520\n"
     ]
    },
    {
     "data": {
      "image/png": "[encoded data removed]",
      "text/plain": [
       "<matplotlib.figure.Figure at 0xc925898>"
      ]
     },
     "metadata": {},
     "output_type": "display_data"
    }
   ],
   "source": [
    "xgb4 = XGBClassifier(\n",
    " learning_rate =0.01,\n",
    " n_estimators=5000,\n",
    " max_depth=4,\n",
    " min_child_weight=6,\n",
    " gamma=0,\n",
    " subsample=0.8,\n",
    " colsample_bytree=0.8,\n",
    " reg_alpha=0.005,\n",
    " objective= 'binary:logistic',\n",
    " nthread=4,\n",
    " scale_pos_weight=1,\n",
    " seed=27)\n",
    "modelfit(xgb4, train, predictors)"
   ]
  },
  {
   "cell_type": "code",
   "execution_count": null,
   "metadata": {
    "collapsed": true
   },
   "outputs": [],
   "source": []
  },
  {
   "cell_type": "code",
   "execution_count": 368,
   "metadata": {
    "collapsed": true
   },
   "outputs": [],
   "source": [
    "#### Ploting learning Curve ####\n",
    "def plot_learning_curve(estimator, title, X, y, ylim=None, cv=None,\n",
    "                        n_jobs=-1, train_sizes=np.linspace(.1, 1.0, 5)):\n",
    "    \"\"\"Generate a simple plot of the test and training learning curve\"\"\"\n",
    "    plt.figure()\n",
    "    plt.title(title)\n",
    "    if ylim is not None:\n",
    "        plt.ylim(*ylim)\n",
    "    plt.xlabel(\"Training examples\")\n",
    "    plt.ylabel(\"Score\")\n",
    "    train_sizes, train_scores, test_scores = learning_curve(\n",
    "        estimator, X, y, cv=cv, n_jobs=n_jobs, train_sizes=train_sizes)\n",
    "    train_scores_mean = np.mean(train_scores, axis=1)\n",
    "    train_scores_std = np.std(train_scores, axis=1)\n",
    "    test_scores_mean = np.mean(test_scores, axis=1)\n",
    "    test_scores_std = np.std(test_scores, axis=1)\n",
    "    plt.grid()\n",
    "\n",
    "    plt.fill_between(train_sizes, train_scores_mean - train_scores_std,\n",
    "                     train_scores_mean + train_scores_std, alpha=0.1,\n",
    "                     color=\"r\")\n",
    "    plt.fill_between(train_sizes, test_scores_mean - test_scores_std,\n",
    "                     test_scores_mean + test_scores_std, alpha=0.1, color=\"g\")\n",
    "    plt.plot(train_sizes, train_scores_mean, 'o-', color=\"r\",\n",
    "             label=\"Training score\")\n",
    "    plt.plot(train_sizes, test_scores_mean, 'o-', color=\"g\",\n",
    "             label=\"Cross-validation score\")\n",
    "\n",
    "    plt.legend(loc=\"best\")\n",
    "    return plt"
   ]
  },
  {
   "cell_type": "code",
   "execution_count": 392,
   "metadata": {
    "collapsed": false
   },
   "outputs": [
    {
     "data": {
      "image/png": "[encoded data removed]",
      "text/plain": [
       "<matplotlib.figure.Figure at 0xbe3c240>"
      ]
     },
     "metadata": {},
     "output_type": "display_data"
    },
    {
     "data": {
      "image/png": "[encoded data removed]",
      "text/plain": [
       "<matplotlib.figure.Figure at 0xb7b5630>"
      ]
     },
     "metadata": {},
     "output_type": "display_data"
    },
    {
     "data": {
      "image/png": "[encoded data removed]",
      "text/plain": [
       "<matplotlib.figure.Figure at 0xb8902b0>"
      ]
     },
     "metadata": {},
     "output_type": "display_data"
    }
   ],
   "source": [
    "g = plot_learning_curve(gsRFC.best_estimator_,\"RandomForest mearning curves\",X_train,Y_train,cv=kfold)\n",
    "g = plot_learning_curve(clf.best_estimator_,\"LogisticRegression learning curves\",X_train,Y_train,cv=kfold)\n",
    "g = plot_learning_curve(gsearch2.best_estimator_,\"XGBoost learning curves\",X_train,Y_train,cv=kfold)\n"
   ]
  },
  {
   "cell_type": "code",
   "execution_count": 412,
   "metadata": {
    "collapsed": false
   },
   "outputs": [
    {
     "data": {
      "image/png": "[encoded data removed]",
      "text/plain": [
       "<matplotlib.figure.Figure at 0xe074c18>"
      ]
     },
     "metadata": {},
     "output_type": "display_data"
    }
   ],
   "source": [
    "nrows = ncols = 2\n",
    "fig, axes = plt.subplots(nrows = nrows, ncols = ncols, sharex=\"all\", figsize=(5,5))\n",
    "\n",
    "names_classifiers = [(\"RandomForest\",RFC_best)]\n",
    "\n",
    "nclassifier = 0\n",
    "for row in range(1):\n",
    "    for col in range(1):\n",
    "        name = names_classifiers[nclassifier][0]\n",
    "        classifier = names_classifiers[nclassifier][1]\n",
    "        indices = np.argsort(classifier.feature_importances_)[::-1][:40]\n",
    "        g = sns.barplot(y=X_train.columns[indices][:40],x = classifier.feature_importances_[indices][:40] , orient='h',ax=axes[row][col])\n",
    "        g.set_xlabel(\"Relative importance\",fontsize=12)\n",
    "        g.set_ylabel(\"Features\",fontsize=12)\n",
    "        g.tick_params(labelsize=9)\n",
    "        g.set_title(name + \" feature importance\")\n",
    "        nclassifier += 0"
   ]
  },
  {
   "cell_type": "code",
   "execution_count": 416,
   "metadata": {
    "collapsed": false
   },
   "outputs": [],
   "source": [
    "from sklearn.ensemble import VotingClassifier\n",
    "\n",
    "votingC = VotingClassifier(estimators=[('rfc', RFC_best), ('logistic',clf.best_estimator_),('xgboost',gsearch2.best_estimator_)], voting='soft', n_jobs=4)\n",
    "\n",
    "votingC = votingC.fit(X_train, Y_train)"
   ]
  },
  {
   "cell_type": "code",
   "execution_count": 417,
   "metadata": {
    "collapsed": false
   },
   "outputs": [
    {
     "data": {
      "text/plain": [
       "<bound method ClassifierMixin.score of VotingClassifier(estimators=[('rfc', RandomForestClassifier(bootstrap=False, class_weight=None, criterion='gini',\n",
       "            max_depth=None, max_features=1, max_leaf_nodes=None,\n",
       "            min_impurity_split=1e-07, min_samples_leaf=1,\n",
       "            min_samples_split=10, min_weight_fraction_leaf=0.0,\n",
       "            n_es...\n",
       "       reg_alpha=0, reg_lambda=1, scale_pos_weight=1, seed=27, silent=True,\n",
       "       subsample=0.8))],\n",
       "         n_jobs=4, voting='soft', weights=None)>"
      ]
     },
     "execution_count": 417,
     "metadata": {},
     "output_type": "execute_result"
    }
   ],
   "source": []
  },
  {
   "cell_type": "code",
   "execution_count": null,
   "metadata": {
    "collapsed": true
   },
   "outputs": [],
   "source": []
  }
 ],
 "metadata": {
  "kernelspec": {
   "display_name": "Python 3",
   "language": "python",
   "name": "python3"
  },
  "language_info": {
   "codemirror_mode": {
    "name": "ipython",
    "version": 3
   },
   "file_extension": ".py",
   "mimetype": "text/x-python",
   "name": "python",
   "nbconvert_exporter": "python",
   "pygments_lexer": "ipython3",
   "version": "3.6.0"
  }
 },
 "nbformat": 4,
 "nbformat_minor": 2
}
